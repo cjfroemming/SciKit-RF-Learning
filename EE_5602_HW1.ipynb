{
 "cells": [
  {
   "cell_type": "code",
   "execution_count": 1,
   "id": "d0f77809-c41e-4c31-b011-105bbe0c4cc7",
   "metadata": {},
   "outputs": [],
   "source": [
    "import numpy as np\n",
    "import math\n",
    "import cmath\n",
    "import matplotlib.pyplot as plt\n",
    "pi = math.pi\n",
    "\n",
    "#Prints out numbers without \"np.flat64\" displaying\n",
    "np.set_printoptions(legacy='1.25')"
   ]
  },
  {
   "cell_type": "code",
   "execution_count": 21,
   "id": "1010be28",
   "metadata": {},
   "outputs": [],
   "source": [
    "#Calculates B and X in a lumped element matching network.\n",
    "def L_matching_network(Zo,ZL) :\n",
    "    ZL_norm = ZL/Zo\n",
    "    Zo_norm = 1\n",
    "    ref = (ZL_norm-Zo_norm)/(ZL_norm+Zo_norm)\n",
    "    print(ref)\n",
    "    ref_mag = abs(ref)\n",
    "    RL = ZL.real\n",
    "    XL = ZL.imag\n",
    "    if RL<Zo.real :\n",
    "        print(f'Γ = {round(ref_mag,3)}, Outside 1 + jx circle')\n",
    "        Xp = np.sqrt(RL*(Zo-RL)) - XL\n",
    "        Xm = -np.sqrt(RL*(Zo-RL)) - XL\n",
    "        Bp = np.sqrt((Zo-RL)/RL)/Zo\n",
    "        Bm = -np.sqrt((Zo-RL)/RL)/Zo\n",
    "        return [[Xp,Bp],[Xm,Bm]]\n",
    "    if RL>Zo.real :\n",
    "        print(f'Γ = {round(ref_mag,3)}, Inside 1 + jx circle')\n",
    "        Bp = (XL + np.sqrt(RL/Zo)*np.sqrt(RL**2 + XL**2 - Zo*RL))/(RL**2 + XL**2)\n",
    "        Bm = (XL - np.sqrt(RL/Zo)*np.sqrt(RL**2 + XL**2 - Zo*RL))/(RL**2 + XL**2)\n",
    "        Xp = (1/Bp) + (XL*Zo)/RL - Zo/(Bp*RL)\n",
    "        Xm = (1/Bm) + (XL*Zo)/RL - Zo/(Bm*RL)\n",
    "        return [[Xp,Bp],[Xm,Bm]]\n",
    "    else :\n",
    "        print(f'ERROR: RL = Zo')\n",
    "        return 0"
   ]
  },
  {
   "cell_type": "code",
   "execution_count": 22,
   "id": "8130aae3",
   "metadata": {},
   "outputs": [
    {
     "name": "stdout",
     "output_type": "stream",
     "text": [
      "(-0.5076923076923077-0.061538461538461535j)\n",
      "Γ = 0.511, Outside 1 + jx circle\n",
      "[[(57.00212496255788+7.017282255051754j), (0.01179155513616213-0.0005033253862245729j)], [(-57.00212496255788-7.017282255051754j), (-0.01179155513616213+0.0005033253862245729j)]]\n"
     ]
    }
   ],
   "source": [
    "ZL = complex(120,20)\n",
    "Zo = 40\n",
    "\n",
    "ans = L_matching_network(ZL, Zo)\n",
    "print(ans)"
   ]
  },
  {
   "cell_type": "code",
   "execution_count": 2,
   "id": "3f8aeca2",
   "metadata": {},
   "outputs": [],
   "source": [
    "#Calculates the lengths of stub for two lowest possible single stub in series with load and line.\n",
    "def calc_single_stub_series(ZL, Zo, type) :\n",
    "    ''' Inputs:\n",
    "            ZL: load impedence (must be in complex form!)\n",
    "            Zo: line impedence to match load to\n",
    "            type: 'short' or 'open' for load type at end of stub.\n",
    "        Returns: array of form [[d1,l1],[d2,l2]]\n",
    "    '''\n",
    "\n",
    "    Yo = 1/Zo\n",
    "    YL = 1/ZL\n",
    "    GL = YL.real\n",
    "    BL = YL.imag\n",
    "\n",
    "    if ((type != 'short') & (type != 'open')) : #check if type is valid.\n",
    "        type1 = 'short'\n",
    "        type2 = 'open'\n",
    "        print(f'ERROR: incorrect type. Please choose {type1} or {type2}')\n",
    "        return -1\n",
    "\n",
    "    #follows algorithm from 5.2 in D. Pozar - Microwave Engineering, 4th ed (2012).\n",
    "    #has to possible solutions, t_pos and t_neg, which correspond to a '+' or a '-'\n",
    "    #   in the t equations.\n",
    "    if GL != Yo :\n",
    "        t_pos = (BL + np.sqrt((GL*(((Yo-GL)**2)+ BL**2))/Yo))/(GL-Yo)\n",
    "        t_neg = (BL - np.sqrt((GL*(((Yo-GL)**2)+ BL**2))/Yo))/(GL-Yo)\n",
    "    else :\n",
    "        print('GL = Yo')\n",
    "        t_pos = -BL/(2*Yo)\n",
    "        t_neg = 0\n",
    "    if t_pos >=0 : d_pos = (1/(2*pi))*np.arctan(t_pos)\n",
    "    else : d_pos = (1/(2*pi))*(pi + np.arctan(t_pos))\n",
    "    if t_neg >=0 : d_neg = (1/(2*pi))*np.arctan(t_neg)\n",
    "    else : d_neg = (1/(2*pi))*(pi + np.arctan(t_neg))\n",
    "\n",
    "    X_pos = ((GL**2)*t_pos - ((Yo-t_pos*BL)*(BL+t_pos*Yo))) / (Yo*(GL**2 + (BL + Yo*t_pos)**2))\n",
    "    X_neg = ((GL**2)*t_neg - ((Yo-t_neg*BL)*(BL+t_neg*Yo))) / (Yo*(GL**2 + (BL + Yo*t_neg)**2))\n",
    "\n",
    "    if type == 'short' :\n",
    "        l_pos = (-1/(2*pi))*np.arctan(X_pos/Zo)\n",
    "        l_neg = (-1/(2*pi))*np.arctan(X_neg/Zo)\n",
    "    if type == 'open' :\n",
    "        l_pos = (1/(2*pi))*np.arctan(Zo/X_pos)\n",
    "        l_neg = (1/(2*pi))*np.arctan(Zo/X_neg)\n",
    "\n",
    "    if l_pos < 0 :\n",
    "        l_pos = l_pos + 0.5\n",
    "    if l_neg < 0 :\n",
    "        l_neg = l_neg + 0.5\n",
    "\n",
    "    return [[d_pos,l_pos],[d_neg,l_neg]]\n"
   ]
  },
  {
   "cell_type": "code",
   "execution_count": 7,
   "id": "c432d77c",
   "metadata": {},
   "outputs": [
    {
     "name": "stdout",
     "output_type": "stream",
     "text": [
      "[[0.4273179297519947, 0.11121084466349099], [0.09187992335640723, 0.38878915533650904]]\n"
     ]
    }
   ],
   "source": [
    "ZL = complex(3,0.5)\n",
    "Zo = 1\n",
    "\n",
    "ans = calc_single_stub_series(ZL, Zo, 'open')\n",
    "print(ans)"
   ]
  },
  {
   "cell_type": "code",
   "execution_count": 12,
   "id": "c797e092",
   "metadata": {},
   "outputs": [],
   "source": [
    "#Calculates the lengths of stub for two lowest possible single stub shunted with between load and line.\n",
    "def calc_single_stub_shunt(ZL, Zo, type) :\n",
    "    ''' Inputs:\n",
    "            ZL: load impedence (must be in complex form!)\n",
    "            Zo: line impedence to match load to\n",
    "            type: 'short' or 'open' for load type at end of stub.\n",
    "        Returns: array of form [[d1,l1],[d2,l2]]\n",
    "    '''\n",
    "    \n",
    "    Yo = 1/Zo\n",
    "    RL = ZL.real\n",
    "    XL = ZL.imag\n",
    "\n",
    "    if ((type != 'short') & (type != 'open')) : #check if type is valid.\n",
    "        type1 = 'short'\n",
    "        type2 = 'open'\n",
    "        print(f'ERROR: incorrect type. Please choose {type1} or {type2}')\n",
    "        return -1\n",
    "\n",
    "    #follows algorithm from 5.2 in D. Pozar - Microwave Engineering, 4th ed (2012).\n",
    "    #has to possible solutions, t_pos and t_neg, which correspond to a '+' or a '-'\n",
    "    #   in the t equations.\n",
    "    if RL != Zo :\n",
    "        t_pos = (XL + np.sqrt((RL*(((Zo-RL)**2)+ XL**2))/Zo))/(RL-Zo)\n",
    "        t_neg = (XL - np.sqrt((RL*(((Zo-RL)**2)+ XL**2))/Zo))/(RL-Zo)\n",
    "    else :\n",
    "        print('RL = Zo')\n",
    "        t_pos = -XL/(2*Zo)\n",
    "        t_neg = 0\n",
    "    if t_pos >=0 : d_pos = (1/(2*pi))*np.arctan(t_pos)\n",
    "    else : d_pos = (1/(2*pi))*(pi + np.arctan(t_pos))\n",
    "    if t_neg >=0 : d_neg = (1/(2*pi))*np.arctan(t_neg)\n",
    "    else : d_neg = (1/(2*pi))*(pi + np.arctan(t_neg))\n",
    "\n",
    "    B_pos = ((RL**2)*t_pos - ((Zo-XL*t_pos)*(XL+Zo*t_pos))) / (Zo*(RL**2 + (XL + Zo*t_pos)**2))\n",
    "    B_neg = ((RL**2)*t_neg - ((Zo-XL*t_neg)*(XL+Zo*t_neg))) / (Zo*(RL**2 + (XL + Zo*t_neg)**2))\n",
    "\n",
    "    if type == 'open' :\n",
    "        l_pos = (-1/(2*pi))*np.arctan(B_pos/Yo)\n",
    "        l_neg = (-1/(2*pi))*np.arctan(B_neg/Yo)\n",
    "    if type == 'short' :\n",
    "        l_pos = (1/(2*pi))*np.arctan(Yo/B_pos)\n",
    "        l_neg = (1/(2*pi))*np.arctan(Yo/B_neg)\n",
    "\n",
    "    if l_pos < 0 :\n",
    "        l_pos = l_pos + 0.5\n",
    "    if l_neg < 0 :\n",
    "        l_neg = l_neg + 0.5\n",
    "\n",
    "    return [[d_pos,l_pos],[d_neg,l_neg]]\n"
   ]
  },
  {
   "cell_type": "code",
   "execution_count": 16,
   "id": "83d25b72",
   "metadata": {},
   "outputs": [
    {
     "name": "stdout",
     "output_type": "stream",
     "text": [
      "[[0.17731792975199465, 0.11121084466349099], [0.3418799233564072, 0.388789155336509]]\n"
     ]
    }
   ],
   "source": [
    "ZL = complex(3,0.5)\n",
    "Zo = 1\n",
    "\n",
    "ans = calc_single_stub_shunt(ZL, Zo, 'short')\n",
    "print(ans)"
   ]
  }
 ],
 "metadata": {
  "kernelspec": {
   "display_name": "Python 3",
   "language": "python",
   "name": "python3"
  },
  "language_info": {
   "codemirror_mode": {
    "name": "ipython",
    "version": 3
   },
   "file_extension": ".py",
   "mimetype": "text/x-python",
   "name": "python",
   "nbconvert_exporter": "python",
   "pygments_lexer": "ipython3",
   "version": "3.11.9"
  }
 },
 "nbformat": 4,
 "nbformat_minor": 5
}

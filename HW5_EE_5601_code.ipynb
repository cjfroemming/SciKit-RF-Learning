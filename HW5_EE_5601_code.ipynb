{
 "cells": [
  {
   "cell_type": "code",
   "execution_count": 1,
   "id": "3d2c9a3d",
   "metadata": {},
   "outputs": [],
   "source": [
    "import numpy as np\n",
    "import math\n",
    "import cmath\n",
    "import matplotlib.pyplot as plt\n",
    "pi = math.pi\n",
    "\n",
    "#Prints out numbers without \"np.flat64\" displaying\n",
    "np.set_printoptions(legacy='1.25')"
   ]
  },
  {
   "cell_type": "markdown",
   "id": "4713d51a",
   "metadata": {},
   "source": [
    "## Problem 5.1"
   ]
  },
  {
   "cell_type": "code",
   "execution_count": 2,
   "id": "2fe2bf14",
   "metadata": {},
   "outputs": [
    {
     "name": "stdout",
     "output_type": "stream",
     "text": [
      "0.6439209162167847\n"
     ]
    }
   ],
   "source": [
    "Zl = complex(1.5,-2)\n",
    "Zo = complex(1)\n",
    "\n",
    "Ref = (Zl-Zo)/(Zl+Zo)\n",
    "print(abs(Ref))"
   ]
  },
  {
   "cell_type": "code",
   "execution_count": 3,
   "id": "dffdef1f",
   "metadata": {},
   "outputs": [],
   "source": [
    "#Calculates B and X in a lumped element matching network.\n",
    "def L_matching_network(Zo,ZL) :\n",
    "    ZL_norm = ZL/Zo\n",
    "    Zo_norm = 1\n",
    "    ref = (ZL_norm-Zo_norm)/(ZL_norm+Zo_norm)\n",
    "    print(ref)\n",
    "    ref_mag = abs(ref)\n",
    "    RL = ZL.real\n",
    "    XL = ZL.imag\n",
    "    if RL<Zo.real :\n",
    "        print(f'Γ = {round(ref_mag,3)}, Outside 1 + jx circle')\n",
    "        Xp = np.sqrt(RL*(Zo-RL)) - XL\n",
    "        Xm = -np.sqrt(RL*(Zo-RL)) - XL\n",
    "        Bp = np.sqrt((Zo-RL)/RL)/Zo\n",
    "        Bm = -np.sqrt((Zo-RL)/RL)/Zo\n",
    "        return [[Xp,Bp],[Xm,Bm]]\n",
    "    if RL>Zo.real :\n",
    "        print(f'Γ = {round(ref_mag,3)}, Inside 1 + jx circle')\n",
    "        Bp = (XL + np.sqrt(RL/Zo)*np.sqrt(RL**2 + XL**2 - Zo*RL))/(RL**2 + XL**2)\n",
    "        Bm = (XL - np.sqrt(RL/Zo)*np.sqrt(RL**2 + XL**2 - Zo*RL))/(RL**2 + XL**2)\n",
    "        Xp = (1/Bp) + (XL*Zo)/RL - Zo/(Bp*RL)\n",
    "        Xm = (1/Bm) + (XL*Zo)/RL - Zo/(Bm*RL)\n",
    "        return [[Xp,Bp],[Xm,Bm]]\n",
    "    else :\n",
    "        print(f'ERROR: RL = Zo')\n",
    "        return 0"
   ]
  },
  {
   "cell_type": "code",
   "execution_count": 4,
   "id": "2f6a7635",
   "metadata": {},
   "outputs": [
    {
     "name": "stdout",
     "output_type": "stream",
     "text": [
      "(0.5121951219512195-0.39024390243902446j)\n",
      "Γ = 0.644, Inside 1 + jx circle\n"
     ]
    },
    {
     "data": {
      "text/plain": [
       "[[(177.95130420052192+0j), (0.0010708313008125241+0j)],\n",
       " [(-177.95130420052186+0j), (-0.007470831300812524+0j)]]"
      ]
     },
     "execution_count": 4,
     "metadata": {},
     "output_type": "execute_result"
    }
   ],
   "source": [
    "Zl1 = complex(150,-200)\n",
    "Zo1 = complex(100,0)\n",
    "L_matching_network(Zo1,Zl1)"
   ]
  },
  {
   "cell_type": "code",
   "execution_count": 5,
   "id": "5daaf72b",
   "metadata": {},
   "outputs": [
    {
     "name": "stdout",
     "output_type": "stream",
     "text": [
      "(-0.06666666666666667-0.8j)\n",
      "Γ = 0.803, Outside 1 + jx circle\n"
     ]
    },
    {
     "data": {
      "text/plain": [
       "[[(130+0j), (0.02+0j)], [(50-0j), (-0.02+0j)]]"
      ]
     },
     "execution_count": 5,
     "metadata": {},
     "output_type": "execute_result"
    }
   ],
   "source": [
    "Zl2 = complex(20,-90)\n",
    "Zo2 = complex(100,0)\n",
    "L_matching_network(Zo2,Zl2)"
   ]
  },
  {
   "cell_type": "markdown",
   "id": "3bf7b87a",
   "metadata": {},
   "source": [
    "## Problem 5.5"
   ]
  },
  {
   "cell_type": "markdown",
   "id": "b63e9bf2",
   "metadata": {},
   "source": [
    "### Equations for Lengths of Single Stub Tuning in Series"
   ]
  },
  {
   "cell_type": "code",
   "execution_count": 6,
   "id": "846cebbd",
   "metadata": {},
   "outputs": [],
   "source": [
    "#Calculates the lengths of stub for two lowest possible single stub in series with load and line.\n",
    "def calc_single_stub_series(ZL, Zo, type) :\n",
    "    ''' Inputs:\n",
    "            ZL: load impedence (must be in complex form!)\n",
    "            Zo: line impedence to match load to\n",
    "            type: 'short' or 'open' for load type at end of stub.\n",
    "        Returns: array of form [[d1,l1],[d2,l2]]\n",
    "    '''\n",
    "\n",
    "    Yo = 1/Zo\n",
    "    YL = 1/ZL\n",
    "    GL = YL.real\n",
    "    BL = YL.imag\n",
    "\n",
    "    if ((type != 'short') & (type != 'open')) : #check if type is valid.\n",
    "        type1 = 'short'\n",
    "        type2 = 'open'\n",
    "        print(f'ERROR: incorrect type. Please choose {type1} or {type2}')\n",
    "        return -1\n",
    "\n",
    "    #follows algorithm from 5.2 in D. Pozar - Microwave Engineering, 4th ed (2012).\n",
    "    #has to possible solutions, t_pos and t_neg, which correspond to a '+' or a '-'\n",
    "    #   in the t equations.\n",
    "    if GL != Yo :\n",
    "        t_pos = (BL + np.sqrt((GL*(((Yo-GL)**2)+ BL**2))/Yo))/(GL-Yo)\n",
    "        t_neg = (BL - np.sqrt((GL*(((Yo-GL)**2)+ BL**2))/Yo))/(GL-Yo)\n",
    "    else :\n",
    "        print('GL = Yo')\n",
    "        t_pos = -BL/(2*Yo)\n",
    "        t_neg = 0\n",
    "    if t_pos >=0 : d_pos = (1/(2*pi))*np.arctan(t_pos)\n",
    "    else : d_pos = (1/(2*pi))*(pi + np.arctan(t_pos))\n",
    "    if t_neg >=0 : d_neg = (1/(2*pi))*np.arctan(t_neg)\n",
    "    else : d_neg = (1/(2*pi))*(pi + np.arctan(t_neg))\n",
    "\n",
    "    X_pos = ((GL**2)*t_pos - ((Yo-t_pos*BL)*(BL+t_pos*Yo))) / (Yo*(GL**2 + (BL + Yo*t_pos)**2))\n",
    "    X_neg = ((GL**2)*t_neg - ((Yo-t_neg*BL)*(BL+t_neg*Yo))) / (Yo*(GL**2 + (BL + Yo*t_neg)**2))\n",
    "\n",
    "    if type == 'short' :\n",
    "        l_pos = (-1/(2*pi))*np.arctan(X_pos/Zo)\n",
    "        l_neg = (-1/(2*pi))*np.arctan(X_neg/Zo)\n",
    "    if type == 'open' :\n",
    "        l_pos = (1/(2*pi))*np.arctan(Zo/X_pos)\n",
    "        l_neg = (1/(2*pi))*np.arctan(Zo/X_neg)\n",
    "\n",
    "    if l_pos < 0 :\n",
    "        l_pos = l_pos + 0.5\n",
    "    if l_neg < 0 :\n",
    "        l_neg = l_neg + 0.5\n",
    "\n",
    "    return [[d_pos,l_pos],[d_neg,l_neg]]\n"
   ]
  },
  {
   "cell_type": "markdown",
   "id": "6df244f2",
   "metadata": {},
   "source": [
    "### Example 5.3"
   ]
  },
  {
   "cell_type": "code",
   "execution_count": 7,
   "id": "b5ee19bb",
   "metadata": {},
   "outputs": [
    {
     "data": {
      "text/plain": [
       "[[0.46337321760116423, 0.10236866985856283],\n",
       " [0.11974380977679012, 0.39763133014143714]]"
      ]
     },
     "execution_count": 7,
     "metadata": {},
     "output_type": "execute_result"
    }
   ],
   "source": [
    "#Example 5.3\n",
    "ZL = complex(100,80)\n",
    "Zo = 50\n",
    "calc_single_stub_series(ZL, Zo, 'open')"
   ]
  },
  {
   "cell_type": "markdown",
   "id": "de076d88",
   "metadata": {},
   "source": [
    "### Calculations for Problem"
   ]
  },
  {
   "cell_type": "code",
   "execution_count": 8,
   "id": "0518769e",
   "metadata": {},
   "outputs": [
    {
     "data": {
      "text/plain": [
       "[[0.4813976406943494, 0.14730157322563034],\n",
       " [0.17410416488946603, 0.3526984267743697]]"
      ]
     },
     "execution_count": 8,
     "metadata": {},
     "output_type": "execute_result"
    }
   ],
   "source": [
    "ZL = complex(90,60)\n",
    "Zo = 75\n",
    "calc_single_stub_series(ZL, Zo, 'open')"
   ]
  },
  {
   "cell_type": "markdown",
   "id": "82d265bb",
   "metadata": {},
   "source": [
    "## Problem 5.12"
   ]
  },
  {
   "cell_type": "markdown",
   "id": "f53df81e",
   "metadata": {},
   "source": [
    "### Equations for Lengths of Single Stub Tuning in Shunt"
   ]
  },
  {
   "cell_type": "code",
   "execution_count": 9,
   "id": "a2bc9c36",
   "metadata": {},
   "outputs": [],
   "source": [
    "#Calculates the lengths of stub for two lowest possible single stub shunted with between load and line.\n",
    "def calc_single_stub_shunt(ZL, Zo, type) :\n",
    "    ''' Inputs:\n",
    "            ZL: load impedence (must be in complex form!)\n",
    "            Zo: line impedence to match load to\n",
    "            type: 'short' or 'open' for load type at end of stub.\n",
    "        Returns: array of form [[d1,l1],[d2,l2]]\n",
    "    '''\n",
    "    \n",
    "    Yo = 1/Zo\n",
    "    RL = ZL.real\n",
    "    XL = ZL.imag\n",
    "\n",
    "    if ((type != 'short') & (type != 'open')) : #check if type is valid.\n",
    "        type1 = 'short'\n",
    "        type2 = 'open'\n",
    "        print(f'ERROR: incorrect type. Please choose {type1} or {type2}')\n",
    "        return -1\n",
    "\n",
    "    #follows algorithm from 5.2 in D. Pozar - Microwave Engineering, 4th ed (2012).\n",
    "    #has to possible solutions, t_pos and t_neg, which correspond to a '+' or a '-'\n",
    "    #   in the t equations.\n",
    "    if RL != Zo :\n",
    "        t_pos = (XL + np.sqrt((RL*(((Zo-RL)**2)+ XL**2))/Zo))/(RL-Zo)\n",
    "        t_neg = (XL - np.sqrt((RL*(((Zo-RL)**2)+ XL**2))/Zo))/(RL-Zo)\n",
    "    else :\n",
    "        print('RL = Zo')\n",
    "        t_pos = -XL/(2*Zo)\n",
    "        t_neg = 0\n",
    "    if t_pos >=0 : d_pos = (1/(2*pi))*np.arctan(t_pos)\n",
    "    else : d_pos = (1/(2*pi))*(pi + np.arctan(t_pos))\n",
    "    if t_neg >=0 : d_neg = (1/(2*pi))*np.arctan(t_neg)\n",
    "    else : d_neg = (1/(2*pi))*(pi + np.arctan(t_neg))\n",
    "\n",
    "    B_pos = ((RL**2)*t_pos - ((Zo-XL*t_pos)*(XL+Zo*t_pos))) / (Zo*(RL**2 + (XL + Zo*t_pos)**2))\n",
    "    B_neg = ((RL**2)*t_neg - ((Zo-XL*t_neg)*(XL+Zo*t_neg))) / (Zo*(RL**2 + (XL + Zo*t_neg)**2))\n",
    "\n",
    "    if type == 'open' :\n",
    "        l_pos = (-1/(2*pi))*np.arctan(B_pos/Yo)\n",
    "        l_neg = (-1/(2*pi))*np.arctan(B_neg/Yo)\n",
    "    if type == 'short' :\n",
    "        l_pos = (1/(2*pi))*np.arctan(Yo/B_pos)\n",
    "        l_neg = (1/(2*pi))*np.arctan(Yo/B_neg)\n",
    "\n",
    "    if l_pos < 0 :\n",
    "        l_pos = l_pos + 0.5\n",
    "    if l_neg < 0 :\n",
    "        l_neg = l_neg + 0.5\n",
    "\n",
    "    return [[d_pos,l_pos],[d_neg,l_neg]]\n"
   ]
  },
  {
   "cell_type": "code",
   "execution_count": 10,
   "id": "1f8d3630",
   "metadata": {},
   "outputs": [
    {
     "data": {
      "text/plain": [
       "[[0.11042321863830025, 0.0949746216358915],\n",
       " [0.2594445306228258, 0.4050253783641085]]"
      ]
     },
     "execution_count": 10,
     "metadata": {},
     "output_type": "execute_result"
    }
   ],
   "source": [
    "# Example 5.2\n",
    "ZL = complex(60,-80)\n",
    "Zo = 50\n",
    "calc_single_stub_shunt(ZL, Zo, 'short')"
   ]
  },
  {
   "cell_type": "code",
   "execution_count": 11,
   "id": "5c641ae4",
   "metadata": {},
   "outputs": [
    {
     "name": "stdout",
     "output_type": "stream",
     "text": [
      "[[0.1520433619923482, 0.15204336199234816], [0.3479566380076518, 0.34795663800765186]]\n"
     ]
    }
   ],
   "source": [
    "ZL = complex(200,0)\n",
    "Zo = 100\n",
    "#ans_series = calc_single_stub_series(ZL, Zo, 'short')\n",
    "ans_shunt = calc_single_stub_shunt(ZL, Zo, 'short')\n",
    "print(ans_shunt)\n",
    "#print(ans_series)"
   ]
  },
  {
   "cell_type": "markdown",
   "id": "1401e44d",
   "metadata": {},
   "source": [
    "### Calculations for Plot"
   ]
  },
  {
   "cell_type": "code",
   "execution_count": 12,
   "id": "154f33b1",
   "metadata": {},
   "outputs": [],
   "source": [
    "Zo = 100 #ohms\n",
    "ZL = 200 #ohms\n",
    "\n",
    "input = np.linspace(0.7,1.3,num=300) # vector of f from 0.5 to 2 in over 100 slices\n",
    "frequency_ratio = [element for element in input] #frequency = x-axis\n",
    "ref_mag_1 = [999] * len(input)\n",
    "\n",
    "#Calculate SWR for every f value\n",
    "index=0\n",
    "for f in input :\n",
    "    Bd = ans_shunt[0][0]*2*pi*f\n",
    "    Bl = ans_shunt[0][1]*2*pi*f\n",
    "    Zin_d = Zo*((ZL+complex(0,Zo*np.tan(Bd)))/(Zo+complex(0,ZL*np.tan(Bd))))\n",
    "    Zin_l = complex(0,Zo*np.tan(Bl))\n",
    "    Zin = Zin_d*Zin_l/(Zin_d+Zin_l)\n",
    "    ref_mag_1[index] = 20*np.log10(abs((Zin-Zo)/(Zin+Zo))) #reflection coefficient magnitude\n",
    "\n",
    "    index+=1\n",
    "\n",
    "ref_mag_2 = [999] * len(input)\n",
    "index=0\n",
    "for f in input :\n",
    "    Bd = ans_shunt[1][0]*2*pi*f\n",
    "    Bl = ans_shunt[1][1]*2*pi*f\n",
    "    Zin_d = Zo*((ZL+complex(0,Zo*np.tan(Bd)))/(Zo+complex(0,ZL*np.tan(Bd))))\n",
    "    Zin_l = complex(0,Zo*np.tan(Bl))\n",
    "    Zin = Zin_d*Zin_l/(Zin_d+Zin_l)\n",
    "    ref_mag_2[index] = 20*np.log10(abs((Zin-Zo)/(Zin+Zo))) #reflection coefficient magnitude\n",
    "\n",
    "    index+=1\n"
   ]
  },
  {
   "cell_type": "markdown",
   "id": "682c6aa8",
   "metadata": {},
   "source": [
    "### Plotting the Data"
   ]
  },
  {
   "cell_type": "code",
   "execution_count": 13,
   "id": "d3aa0750",
   "metadata": {},
   "outputs": [
    {
     "data": {
      "text/plain": [
       "<matplotlib.legend.Legend at 0x24fb3c14490>"
      ]
     },
     "execution_count": 13,
     "metadata": {},
     "output_type": "execute_result"
    },
    {
     "data": {
      "image/png": "[encoded data removed]",
      "text/plain": [
       "<Figure size 1200x700 with 1 Axes>"
      ]
     },
     "metadata": {},
     "output_type": "display_data"
    }
   ],
   "source": [
    "#Plotting the data\n",
    "fig = plt.figure(figsize = (12,7))\n",
    "\n",
    "plt.plot(frequency_ratio,ref_mag_1, alpha = 0.4, label='d1,l1', color='blue')\n",
    "plt.plot(frequency_ratio,ref_mag_2, alpha = 0.4, label='d2,l2', color='red')\n",
    "plt.title('P5.12a, Reflection Coefficient plotted from 0.8 <= f/fo <= 1.2')\n",
    "plt.xlabel('f/fo')\n",
    "plt.ylabel('Reflection Coefficient')\n",
    "plt.grid()\n",
    "plt.legend()"
   ]
  },
  {
   "cell_type": "markdown",
   "id": "b3c545e3",
   "metadata": {},
   "source": [
    "## Problem 5.13"
   ]
  },
  {
   "cell_type": "markdown",
   "id": "30be8e73",
   "metadata": {},
   "source": [
    "### Generic Equations"
   ]
  },
  {
   "cell_type": "code",
   "execution_count": 14,
   "id": "39acb548",
   "metadata": {},
   "outputs": [],
   "source": [
    "# Generic Equations\n",
    "\n",
    "def freq_to_omega(freq) : #get angular frequency (rad/s)\n",
    "    return 2*pi*freq\n",
    "\n",
    "def Np_to_dB(Np) : # converts Nepers to Decibels.\n",
    "    return Np*20/(np.log(10))\n",
    "\n",
    "#mu_r, epsilon_r = relative properties of medium\n",
    "#freq = frequency of propagation\n",
    "def calc_wavenumber(mu_r, epsilon_r, freq) : # wavenumber, k\n",
    "    return freq_to_omega(freq)*np.sqrt(mu_r*mu_0*epsilon_r*epsilon_0)\n",
    "\n",
    "# k = wavenumber\n",
    "def calc_SL_guide_wavelength(k) : # lambda_g\n",
    "    return 2*pi/k\n",
    "\n",
    "#frequency = frequency of propagation\n",
    "#conductance = property of conductor, sigma\n",
    "def calc_surface_resistance(frequency,conductance) :\n",
    "    return np.sqrt(freq_to_omega(frequency)*mu_0/(2*conductance))"
   ]
  },
  {
   "cell_type": "markdown",
   "id": "cbc302c2",
   "metadata": {},
   "source": [
    "### Stripline Equations \n",
    "(from HW3_EE_5601.ipnyb)"
   ]
  },
  {
   "cell_type": "code",
   "execution_count": 15,
   "id": "4b5dba50",
   "metadata": {},
   "outputs": [],
   "source": [
    "#epsilon_r = relative permitivity of dialectric\n",
    "#Zo = desired characteristic impedence of line\n",
    "#d = substrate thickness\n",
    "def calc_MS_width(epsilon_r, Zo,d) :\n",
    "    A = (Zo/60)*(np.sqrt((epsilon_r+1)/2)) + ((epsilon_r-1)/(epsilon_r+1))*(0.23 + (0.11)/epsilon_r)\n",
    "    B = 377*pi/(2*Zo*np.sqrt(epsilon_r))\n",
    "    #print(f'A = {A}')\n",
    "    #print(f'B = {B}')\n",
    "    W = (8*np.exp(A)/(np.exp(2*A)-2))*d\n",
    "    if (W/d) <= 2 :\n",
    "        print(f'W/d <= 2')\n",
    "        return W\n",
    "    else :\n",
    "        return ((2/pi)*(B - 1 - np.log(2*B-1) + ((epsilon_r-1)/(2*epsilon_r)) * (np.log(B-1) + 0.39 - (0.61/epsilon_r))))*d\n",
    "    \n",
    "#epsilon_r = relative permitivity of dialectric\n",
    "#W = width of copper microstrip (not groundplane)\n",
    "#d = substrate thickness\n",
    "def calc_MS_epsilon_effective(epsilon_r, W, d) :\n",
    "    return ((epsilon_r+1)/(2) + ((epsilon_r-1)/(2))*(1/(np.sqrt(1 + 12*(d/W)))))\n",
    "\n",
    "#epsilon_r = relative permitivity of dialectric\n",
    "#tandelta = property of dialectric\n",
    "#W = width of copper microstrip (not groundplane)\n",
    "#d = substrate thickness\n",
    "def calc_MS_dialectric_loss(epsilon_r,freq, tandelta, W, d) :\n",
    "    k0 = (2*pi*freq/c)\n",
    "    epsilon_e = calc_MS_epsilon_effective(epsilon_r, W, d)\n",
    "    return ((k0*epsilon_r*(epsilon_e-1)*tandelta)/(2*np.sqrt(epsilon_e)*(epsilon_r-1)))\n",
    "\n",
    "#Rs = surface resistance of conductor\n",
    "#Zo = characteristic impedence of line.\n",
    "#W = width of copper microstrip (not groundplane)\n",
    "def calc_MS_conductor_loss(Rs, Zo, W) : \n",
    "    return (Rs/(Zo*W))\n",
    "\n",
    "#Zo = characteristic impedence of line.\n",
    "#epsilon_r = relative permitivity of dialectric\n",
    "#freq = frequency of line.\n",
    "#d = substrate thickness\n",
    "#tandelta = property of dialectric\n",
    "#conductance = conductance of conductor.\n",
    "def calc_MS_total_loss(Zo, epsilon_r, freq, d, tandelta, conductance) :\n",
    "    Rs = calc_surface_resistance(freq,conductance)\n",
    "    W = calc_MS_width(epsilon_r, Zo, d)\n",
    "    print(f'W = {W}')\n",
    "    cond_loss = Np_to_dB(calc_MS_conductor_loss(Rs, Zo, W))\n",
    "    dialectric_loss = Np_to_dB(calc_MS_dialectric_loss(epsilon_r, freq, tandelta, W, d))\n",
    "    print(f'Conductor Loss = {cond_loss} dB/m')\n",
    "    print(f'Dialectric Loss = {dialectric_loss} dB/m')\n",
    "    return cond_loss + dialectric_loss"
   ]
  },
  {
   "cell_type": "markdown",
   "id": "5123aca5",
   "metadata": {},
   "source": [
    "### Calculations"
   ]
  },
  {
   "cell_type": "code",
   "execution_count": 16,
   "id": "5cc5d06d",
   "metadata": {},
   "outputs": [
    {
     "name": "stdout",
     "output_type": "stream",
     "text": [
      "W/d <= 2\n",
      "W/d <= 2\n",
      "Zo = 100, W = 0.0014250354682354908 m\n",
      "Z1 = 187.08286933869707, W = 0.00022195753108428243 m\n",
      "epsilon_effective = 1.6643406605412987\n",
      "wavelength = 0.05813533129784917\n",
      "l = 0.014533832824462292\n"
     ]
    }
   ],
   "source": [
    "\n",
    "epsilon_r = 2.2\n",
    "Zo = 100\n",
    "ZL = 350\n",
    "d = 0.00159 #meters\n",
    "Z1 = np.sqrt(Zo*ZL)\n",
    "\n",
    "W_line = calc_MS_width(epsilon_r, Zo, d)\n",
    "W_match = calc_MS_width(epsilon_r, Z1, d)\n",
    "epsilon_effective = calc_MS_epsilon_effective(epsilon_r,W_match,d)\n",
    "wavelength = ((3*10**8)/((4*10**9)*np.sqrt(epsilon_effective)))\n",
    "l = wavelength/4\n",
    "print(f'Zo = {Zo}, W = {W_line} m')\n",
    "print(f'Z1 = {Z1}, W = {W_match} m')\n",
    "print(f'epsilon_effective = {epsilon_effective}')\n",
    "print(f'wavelength = {wavelength}')\n",
    "print(f'l = {l}')"
   ]
  }
 ],
 "metadata": {
  "kernelspec": {
   "display_name": "Python 3",
   "language": "python",
   "name": "python3"
  },
  "language_info": {
   "codemirror_mode": {
    "name": "ipython",
    "version": 3
   },
   "file_extension": ".py",
   "mimetype": "text/x-python",
   "name": "python",
   "nbconvert_exporter": "python",
   "pygments_lexer": "ipython3",
   "version": "3.11.1"
  }
 },
 "nbformat": 4,
 "nbformat_minor": 5
}

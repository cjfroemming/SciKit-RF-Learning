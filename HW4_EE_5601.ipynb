{
 "cells": [
  {
   "cell_type": "code",
   "execution_count": 1,
   "id": "aa79d485",
   "metadata": {},
   "outputs": [],
   "source": [
    "import skrf as rf\n",
    "import matplotlib.pyplot as plt\n",
    "import numpy as np\n",
    "import cmath as cm\n",
    "import math\n",
    "import sympy as sp\n",
    "from sympy.solvers import solve\n",
    "pi = math.pi\n",
    "\n",
    "#Prints out numbers without \"np.flat64\" displaying\n",
    "np.set_printoptions(legacy='1.25')"
   ]
  },
  {
   "cell_type": "markdown",
   "id": "7edc88d6",
   "metadata": {},
   "source": [
    "## Problem 4.14"
   ]
  },
  {
   "cell_type": "code",
   "execution_count": 61,
   "id": "6a937c73",
   "metadata": {},
   "outputs": [
    {
     "name": "stdout",
     "output_type": "stream",
     "text": [
      "0.178j,         (0.424+0.424j), (0.283+0.283j), 0j,             \n",
      "(0.424+0.424j), 0j,             0j,             (0.212+0j),     \n",
      "(0.283+0.283j), 0j,             0j,             (0.354+0j),     \n",
      "0j,             (0.212+0j),     (0.354+0j),     0j,             \n"
     ]
    }
   ],
   "source": [
    "def pol2comp(mag,ang) :\n",
    "    a = mag*math.cos(math.radians(ang))\n",
    "    b = mag*math.sin(math.radians(ang))\n",
    "    if a < 10**-15 :\n",
    "        a = 0\n",
    "    if b < 10**-15 :\n",
    "        b = 0\n",
    "    output = complex(a,b)\n",
    "    return output\n",
    "\n",
    "S11 = pol2comp(0.178,90)\n",
    "\n",
    "S = np.matrix([[pol2comp(0.178,90),pol2comp(0.6,45),pol2comp(0.4,45),0],[pol2comp(0.6,45),0,0,pol2comp(0.3,-45)],[pol2comp(0.4,45),0,0,pol2comp(0.5,-45)],[0,pol2comp(0.3,-45),pol2comp(0.5,-45),0]])\n",
    "S_conj = S.conjugate()\n",
    "S_squared =  np.matmul(S,S_conj)\n",
    "\n",
    "print_matrix = S\n",
    "for i in range(0,len(print_matrix)) :\n",
    "    string = ''\n",
    "    for j in range(0,len(print_matrix)) :\n",
    "        val = str(np.round(print_matrix[i,j],3))\n",
    "        string = string + val + ','\n",
    "        if len(val) < 15 :\n",
    "            l = len(val)\n",
    "            while l<15 :\n",
    "                string = string + ' '\n",
    "                l+=1\n",
    "    print(string)\n"
   ]
  },
  {
   "cell_type": "markdown",
   "id": "a6b05540",
   "metadata": {},
   "source": [
    "S is not identiy matrix, therefore this network is not lossless."
   ]
  },
  {
   "cell_type": "code",
   "execution_count": 64,
   "id": "ab2f0350",
   "metadata": {},
   "outputs": [
    {
     "name": "stdout",
     "output_type": "stream",
     "text": [
      "14.99159995382212\n"
     ]
    }
   ],
   "source": [
    "S11 = 0.178\n",
    "RL = -20*math.log10(S11)\n",
    "print(RL)"
   ]
  },
  {
   "cell_type": "code",
   "execution_count": 66,
   "id": "8817e09d",
   "metadata": {},
   "outputs": [
    {
     "name": "stdout",
     "output_type": "stream",
     "text": [
      "10.457574905606752\n"
     ]
    }
   ],
   "source": [
    "S42 = 0.3\n",
    "IL = -20*math.log10(S42)\n",
    "print(IL)"
   ]
  },
  {
   "cell_type": "code",
   "execution_count": 69,
   "id": "1dc372a8",
   "metadata": {},
   "outputs": [
    {
     "name": "stdout",
     "output_type": "stream",
     "text": [
      "0.017999999999999933j\n"
     ]
    }
   ],
   "source": [
    "S11 = S[0,0]\n",
    "S13 = S[0,2]\n",
    "S31 = S[2,0]\n",
    "\n",
    "Ref = S11 - S13*S31\n",
    "print(Ref)"
   ]
  }
 ],
 "metadata": {
  "kernelspec": {
   "display_name": "Python 3",
   "language": "python",
   "name": "python3"
  },
  "language_info": {
   "codemirror_mode": {
    "name": "ipython",
    "version": 3
   },
   "file_extension": ".py",
   "mimetype": "text/x-python",
   "name": "python",
   "nbconvert_exporter": "python",
   "pygments_lexer": "ipython3",
   "version": "3.11.1"
  }
 },
 "nbformat": 4,
 "nbformat_minor": 5
}

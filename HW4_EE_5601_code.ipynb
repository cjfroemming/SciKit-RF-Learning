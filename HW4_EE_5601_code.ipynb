{
 "cells": [
  {
   "cell_type": "code",
   "execution_count": 9,
   "id": "aa79d485",
   "metadata": {},
   "outputs": [],
   "source": [
    "import numpy as np\n",
    "import math\n",
    "pi = math.pi\n",
    "\n",
    "#Prints out numbers without \"np.flat64\" displaying\n",
    "np.set_printoptions(legacy='1.25')"
   ]
  },
  {
   "cell_type": "markdown",
   "id": "7edc88d6",
   "metadata": {},
   "source": [
    "## Problem 4.14"
   ]
  },
  {
   "cell_type": "markdown",
   "id": "98d1be27",
   "metadata": {},
   "source": [
    "a) is network lossless?"
   ]
  },
  {
   "cell_type": "code",
   "execution_count": 10,
   "id": "6a937c73",
   "metadata": {},
   "outputs": [
    {
     "name": "stdout",
     "output_type": "stream",
     "text": [
      "S = \n",
      "|S11,            S12,            S13,            S14            |\n",
      "|S21,            S22,            S23,            S24            |\n",
      "|S31,            S32,            S33,            S34            |\n",
      "|S41,            S42,            S43,            S44            |\n",
      " = \n",
      "|0.178j,         (0.424+0.424j), (0.283+0.283j), 0j             |\n",
      "|(0.424+0.424j), 0j,             0j,             (0.212+0j)     |\n",
      "|(0.283+0.283j), 0j,             0j,             (0.354+0j)     |\n",
      "|0j,             (0.212+0j),     (0.354+0j),     0j             |\n"
     ]
    }
   ],
   "source": [
    "def pol2comp(mag,ang) :\n",
    "    a = mag*math.cos(math.radians(ang))\n",
    "    b = mag*math.sin(math.radians(ang))\n",
    "    if a < 10**-15 :\n",
    "        a = 0\n",
    "    if b < 10**-15 :\n",
    "        b = 0\n",
    "    output = complex(a,b)\n",
    "    return output\n",
    "\n",
    "S11 = pol2comp(0.178,90)\n",
    "\n",
    "S = np.matrix([[pol2comp(0.178,90),pol2comp(0.6,45),pol2comp(0.4,45),0],[pol2comp(0.6,45),0,0,pol2comp(0.3,-45)],[pol2comp(0.4,45),0,0,pol2comp(0.5,-45)],[0,pol2comp(0.3,-45),pol2comp(0.5,-45),0]])\n",
    "S_conj = S.conjugate()\n",
    "S_squared =  np.matmul(S,S_conj)\n",
    "\n",
    "print_matrix = S\n",
    "print('S = ')\n",
    "\n",
    "for i in range(0,len(print_matrix)) :\n",
    "    string = '|'\n",
    "    for j in range(0,len(print_matrix)) :\n",
    "        val = 'S' + str(i+1) + str(j+1)\n",
    "        string = string + val\n",
    "        if j != len(print_matrix)-1 : string = string + ','\n",
    "        if len(val) < 15 :\n",
    "            l = len(val)\n",
    "            while l<15 :\n",
    "                string = string + ' '\n",
    "                l+=1\n",
    "        if j == len(print_matrix)-1 : string = string + '|'\n",
    "    print(string)\n",
    "\n",
    "print(' = ')\n",
    "\n",
    "for i in range(0,len(print_matrix)) :\n",
    "    string = '|'\n",
    "    for j in range(0,len(print_matrix)) :\n",
    "        val = str(np.round(print_matrix[i,j],3))\n",
    "        string = string + val\n",
    "        if j != len(print_matrix)-1 : string = string + ','\n",
    "        if len(val) < 15 :\n",
    "            l = len(val)\n",
    "            while l<15 :\n",
    "                string = string + ' '\n",
    "                l+=1\n",
    "        if j == len(print_matrix)-1 : string = string + '|'\n",
    "    print(string)\n"
   ]
  },
  {
   "cell_type": "markdown",
   "id": "a6b05540",
   "metadata": {},
   "source": [
    "S is not identiy matrix, therefore this network is not lossless."
   ]
  },
  {
   "cell_type": "markdown",
   "id": "0c52ce7f",
   "metadata": {},
   "source": [
    "b) Network is reciprocal."
   ]
  },
  {
   "cell_type": "markdown",
   "id": "5fbda8b0",
   "metadata": {},
   "source": [
    "c) Return Loss?"
   ]
  },
  {
   "cell_type": "code",
   "execution_count": 11,
   "id": "ab2f0350",
   "metadata": {},
   "outputs": [
    {
     "name": "stdout",
     "output_type": "stream",
     "text": [
      "c) Return Loss = 14.99159995382212\n"
     ]
    }
   ],
   "source": [
    "S11 = 0.178\n",
    "RL = -20*math.log10(S11)\n",
    "print(f'c) Return Loss = {RL}')"
   ]
  },
  {
   "cell_type": "markdown",
   "id": "603bd76c",
   "metadata": {},
   "source": [
    "d) Insertion Loss and "
   ]
  },
  {
   "cell_type": "code",
   "execution_count": 12,
   "id": "8817e09d",
   "metadata": {},
   "outputs": [
    {
     "name": "stdout",
     "output_type": "stream",
     "text": [
      "Insertion Loss = 10.46 dB\n",
      "Phase Delay = 45 degrees\n"
     ]
    }
   ],
   "source": [
    "S42 = 0.3\n",
    "IL = -20*math.log10(S42)\n",
    "print(f'Insertion Loss = {np.round(IL,2)} dB')\n",
    "print('Phase Delay = 45 degrees')"
   ]
  },
  {
   "cell_type": "markdown",
   "id": "49509c5b",
   "metadata": {},
   "source": [
    "e) Reflection coefficient @P1, with short @P3, and all other ports terminated with matched loads."
   ]
  },
  {
   "cell_type": "code",
   "execution_count": 13,
   "id": "1dc372a8",
   "metadata": {},
   "outputs": [
    {
     "name": "stdout",
     "output_type": "stream",
     "text": [
      "Reflection Coefficient = 0.018j\n"
     ]
    }
   ],
   "source": [
    "S11 = S[0,0]\n",
    "S13 = S[0,2]\n",
    "S31 = S[2,0]\n",
    "\n",
    "Ref = S11 - S13*S31\n",
    "print(f'Reflection Coefficient = {np.round(Ref,3)}')"
   ]
  },
  {
   "cell_type": "markdown",
   "id": "123da9e1",
   "metadata": {},
   "source": [
    "## Problem 4.20"
   ]
  },
  {
   "cell_type": "code",
   "execution_count": 25,
   "id": "a9420913",
   "metadata": {},
   "outputs": [
    {
     "name": "stdout",
     "output_type": "stream",
     "text": [
      "a = (1.414+0j)\n",
      "PL = 1.0\n"
     ]
    }
   ],
   "source": [
    "ZL = 100\n",
    "Zo = 70.7\n",
    "Zg = 100\n",
    "Vo= 30\n",
    "Bl = math.radians(90)\n",
    "\n",
    "Zin = np.round(Zo*(complex(ZL,(Zo*math.tan(Bl))))/(complex(Zo,(ZL*math.tan(Bl)))),1)\n",
    "\n",
    "a = Vo*np.sqrt(Zin)/(Zin+Zg)\n",
    "PL = 0.5*(abs(a)**2)\n",
    "print(f'a = {np.round(a,3)}')\n",
    "print(f'PL = {np.round(PL,3)}')"
   ]
  },
  {
   "cell_type": "markdown",
   "id": "7b8fd326",
   "metadata": {},
   "source": [
    "## Problem 4.24"
   ]
  },
  {
   "cell_type": "code",
   "execution_count": 17,
   "id": "948f494e",
   "metadata": {},
   "outputs": [
    {
     "name": "stdout",
     "output_type": "stream",
     "text": [
      "Source Resistor ABCD parameters\n",
      "1 50\n",
      "0 1\n",
      "\n",
      "Transformer ABCD parameters\n",
      "0.5 0\n",
      "0 2.0\n",
      "\n",
      "T-line ABCD parameters\n",
      "0j 50j\n",
      "0.02j 0j\n",
      "\n",
      "Load ABCD parameters\n",
      "1 0\n",
      "0.04 1\n",
      "\n",
      "Final System Parameters\n",
      "[[0. +3.j   0.+25.j  ]\n",
      " [0. +0.04j 0. +0.j  ]]\n"
     ]
    }
   ],
   "source": [
    "#Source Parameters\n",
    "R = 50\n",
    "\n",
    "A1 = 1\n",
    "B1 = R\n",
    "C1 = 0\n",
    "D1 = 1\n",
    "ABCD1 = np.matrix([[A1, B1],[C1,D1]])\n",
    "\n",
    "print('Source Resistor ABCD parameters')\n",
    "print(f'{A1} {B1}')\n",
    "print(f'{C1} {D1}')\n",
    "print('')\n",
    "\n",
    "\n",
    "#Transformer Parameters\n",
    "N = 1/2\n",
    "\n",
    "A2 = N\n",
    "B2 = 0\n",
    "C2 = 0\n",
    "D2 = 1/N\n",
    "ABCD2 = np.matrix([[A2,B2],[C2,D2]])\n",
    "\n",
    "print('Transformer ABCD parameters')\n",
    "print(f'{A2} {B2}')\n",
    "print(f'{C2} {D2}')\n",
    "print('')\n",
    "\n",
    "\n",
    "#Tline parameters\n",
    "Zo3 = 50 #ohms\n",
    "Bl3 = 90 #degrees\n",
    "\n",
    "Yo3 = 1/Zo3\n",
    "A3 = complex(round(math.cos(math.radians(Bl3)),4),0)\n",
    "B3 = complex(0,round(Zo3*math.sin(math.radians(Bl3)),4))\n",
    "C3 = complex(0,round(Yo3*math.sin(math.radians(Bl3)),4))\n",
    "D3 = complex(round(math.cos(math.radians(Bl3)),4),0)\n",
    "ABCD3 = np.matrix([[A3, B3],[C3,D3]])\n",
    "\n",
    "print('T-line ABCD parameters')\n",
    "print(f'{A3} {B3}')\n",
    "print(f'{C3} {D3}')\n",
    "print('')\n",
    "\n",
    "\n",
    "#Load Resistor\n",
    "R_L = 25\n",
    "\n",
    "A4 = 1\n",
    "B4 = 0\n",
    "C4 = 1/R_L\n",
    "D4 = 1\n",
    "ABCD4 = np.matrix([[A4,B4],[C4,D4]])\n",
    "\n",
    "print('Load ABCD parameters')\n",
    "print(f'{A4} {B4}')\n",
    "print(f'{C4} {D4}')\n",
    "print('')\n",
    "\n",
    "\n",
    "#Multiply all ABCD matrices together in order.\n",
    "ABCD = np.matmul(ABCD1,ABCD2)\n",
    "ABCD = np.matmul(ABCD,ABCD3)\n",
    "ABCD = np.matmul(ABCD,ABCD4)\n",
    "\n",
    "print('Final System Parameters')\n",
    "print(ABCD)"
   ]
  }
 ],
 "metadata": {
  "kernelspec": {
   "display_name": "Python 3",
   "language": "python",
   "name": "python3"
  },
  "language_info": {
   "codemirror_mode": {
    "name": "ipython",
    "version": 3
   },
   "file_extension": ".py",
   "mimetype": "text/x-python",
   "name": "python",
   "nbconvert_exporter": "python",
   "pygments_lexer": "ipython3",
   "version": "3.11.1"
  }
 },
 "nbformat": 4,
 "nbformat_minor": 5
}

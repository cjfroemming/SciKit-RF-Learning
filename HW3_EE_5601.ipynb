{
 "cells": [
  {
   "cell_type": "code",
   "execution_count": 11,
   "id": "34d4106b-31e7-4edb-a857-3e0775faa3ab",
   "metadata": {},
   "outputs": [],
   "source": [
    "import skrf as rf\n",
    "import matplotlib.pyplot as plt\n",
    "import numpy as np\n",
    "import cmath as cm\n",
    "import math\n",
    "import sympy as sp\n",
    "from sympy.solvers import solve\n",
    "pi = math.pi\n",
    "\n",
    "#Prints out numbers without \"np.flat64\" displaying\n",
    "np.set_printoptions(legacy='1.25')"
   ]
  },
  {
   "cell_type": "code",
   "execution_count": 12,
   "id": "46ad109f",
   "metadata": {},
   "outputs": [],
   "source": [
    "# Constants\n",
    "epsilon_0 = 8.854*10**-12 #permitivity of free space\n",
    "mu_0 = 4*pi*10**-7 #permeability of free space\n",
    "c = 2.998*10**8 #speed of light"
   ]
  },
  {
   "cell_type": "code",
   "execution_count": null,
   "id": "f884702a",
   "metadata": {},
   "outputs": [],
   "source": [
    "# Generic Equations\n",
    "\n",
    "def freq_to_omega(freq) : #get angular frequency (rad/s)\n",
    "    return 2*pi*freq\n",
    "\n",
    "def Np_to_dB(Np) : # converts Nepers to Decibels.\n",
    "    return Np*20/(np.log(10))\n",
    "\n",
    "#mu_r, epsilon_r = relative properties of medium\n",
    "#freq = frequency of propagation\n",
    "def calc_wavenumber(mu_r, epsilon_r, freq) : # wavenumber, k\n",
    "    return freq_to_omega(freq)*np.sqrt(mu_r*mu_0*epsilon_r*epsilon_0)\n",
    "\n",
    "# k = wavenumber\n",
    "def calc_SL_guide_wavelength(k) : # lambda_g\n",
    "    return 2*pi/k\n",
    "\n",
    "#frequency = frequency of propagation\n",
    "#conductance = property of conductor, sigma\n",
    "def calc_surface_resistance(frequency,conductance) :\n",
    "    return np.sqrt(freq_to_omega(frequency)*mu_0/(2*conductance))"
   ]
  },
  {
   "cell_type": "markdown",
   "id": "358ac78c",
   "metadata": {},
   "source": [
    "### Stripline Equations"
   ]
  },
  {
   "cell_type": "code",
   "execution_count": null,
   "id": "c0d00cbb",
   "metadata": {},
   "outputs": [],
   "source": [
    "#Rs = surface resistance.\n",
    "#b = dialectric thickness\n",
    "#t = internal conductor thickness\n",
    "#W = internal conductor width\n",
    "def calc_SL_conductor_loss(Zo, epsilon_r, Rs, b, t, W) :\n",
    "    if (np.sqrt(epsilon_r)*Zo) <= 120 : \n",
    "        A = 1 + (2*W)/(b-t) + (1/pi)*(b+t)*(np.log((2*b-t)/t))/(b-t)\n",
    "        print(A)\n",
    "        return (2.7*(10**-3)*Rs*epsilon_r*Zo)/(30*pi*(b-t))*A\n",
    "    else :\n",
    "        B = 1 + (b)*(0.5 + (0.414*t/W) + (1/(2*pi))*np.log(4*pi*W/t))/(0.5*W + 0.7*t)\n",
    "        return (0.16*Rs/(Zo*b))*B\n",
    "    \n",
    "#tandelta = dialectric property\n",
    "#k = wavenumber\n",
    "def calc_SL_dialectric_loss(k,tandelta) :\n",
    "    return (k*tandelta/2)\n",
    "\n",
    "#Zo = characteristic impedence\n",
    "#epsilon_r = relative permitivity of dialectric\n",
    "def calc_SL_width(Zo,epsilon_r, b) :\n",
    "    x = (30*pi)/(np.sqrt(epsilon_r)*Zo) - 0.441\n",
    "    print(x)\n",
    "    if np.sqrt(epsilon_r)*Zo <= 120 :\n",
    "        return x*b\n",
    "    else :\n",
    "        return (0.85 - np.sqrt(0.6-x))*b\n",
    "    \n",
    "#Zo = characteristic impedence\n",
    "#epsilon_r = relative permitivity of dialectric\n",
    "#mu_r = relative permeability of dialectric\n",
    "#freq = frequency of line\n",
    "#b = dialectric thickness\n",
    "#t = thickness of internal conductor.\n",
    "#tandelta = property of dialectric\n",
    "#conductance = conductance of conductor.\n",
    "def calc_SL_total_loss(Zo, epsilon_r, mu_r, freq, b, t, tandelta, conductance) :\n",
    "    W = calc_SL_width(Zo,epsilon_r, b)\n",
    "    print(f'W = {W}')\n",
    "    k = calc_wavenumber(mu_r, epsilon_r, freq)\n",
    "    Rs = calc_surface_resistance(freq,conductance)\n",
    "    cond_loss = Np_to_dB(calc_SL_conductor_loss(Zo, epsilon_r, Rs, b, t, W))\n",
    "    print(f'Conductor Loss = {cond_loss} dB/m')\n",
    "    dialectric_loss = Np_to_dB(calc_SL_dialectric_loss(k, tandelta))\n",
    "    print(f'Dialectric Loss = {dialectric_loss} dB/m')\n",
    "    return cond_loss + dialectric_loss"
   ]
  },
  {
   "cell_type": "markdown",
   "id": "bc7d8f8d",
   "metadata": {},
   "source": [
    "### Microstrip Equations"
   ]
  },
  {
   "cell_type": "code",
   "execution_count": 15,
   "id": "153dcf27",
   "metadata": {},
   "outputs": [],
   "source": [
    "#epsilon_r = relative permitivity of dialectric\n",
    "#Zo = desired characteristic impedence of line\n",
    "#d = substrate thickness\n",
    "def calc_MS_width(epsilon_r, Zo,d) :\n",
    "    A = (Zo/60)*(np.sqrt((epsilon_r+1)/2)) + ((epsilon_r-1)/(epsilon_r+1))*(0.23 + (0.11)/epsilon_r)\n",
    "    B = 377*pi/(2*Zo*np.sqrt(epsilon_r))\n",
    "    #print(f'A = {A}')\n",
    "    #print(f'B = {B}')\n",
    "    W = (8*np.exp(A)/(np.exp(2*A)-2))*d\n",
    "    if (W/d) <= 2 :\n",
    "        print(f'W/d <= 2')\n",
    "        return W\n",
    "    else :\n",
    "        return ((2/pi)*(B - 1 - np.log(2*B-1) + ((epsilon_r-1)/(2*epsilon_r)) * (np.log(B-1) + 0.39 - (0.61/epsilon_r))))*d\n",
    "    \n",
    "#epsilon_r = relative permitivity of dialectric\n",
    "#W = width of copper microstrip (not groundplane)\n",
    "#d = substrate thickness\n",
    "def calc_MS_epsilon_effective(epsilon_r, W, d) :\n",
    "    return ((epsilon_r+1)/(2) + ((epsilon_r-1)/(2))*(1/(np.sqrt(1 + 12*(d/W)))))\n",
    "\n",
    "#epsilon_r = relative permitivity of dialectric\n",
    "#tandelta = property of dialectric\n",
    "#W = width of copper microstrip (not groundplane)\n",
    "#d = substrate thickness\n",
    "def calc_MS_dialectric_loss(epsilon_r,freq, tandelta, W, d) :\n",
    "    k0 = (2*pi*freq/c)\n",
    "    epsilon_e = calc_MS_epsilon_effective(epsilon_r, W, d)\n",
    "    return ((k0*epsilon_r*(epsilon_e-1)*tandelta)/(2*np.sqrt(epsilon_e)*(epsilon_r-1)))\n",
    "\n",
    "#Rs = surface resistance of conductor\n",
    "#Zo = characteristic impedence of line.\n",
    "#W = width of copper microstrip (not groundplane)\n",
    "def calc_MS_conductor_loss(Rs, Zo, W) : \n",
    "    return (Rs/(Zo*W))\n",
    "\n",
    "#Zo = characteristic impedence of line.\n",
    "#epsilon_r = relative permitivity of dialectric\n",
    "#freq = frequency of line.\n",
    "#d = substrate thickness\n",
    "#tandelta = property of dialectric\n",
    "#conductance = conductance of conductor.\n",
    "def calc_MS_total_loss(Zo, epsilon_r, freq, d, tandelta, conductance) :\n",
    "    Rs = calc_surface_resistance(freq,conductance)\n",
    "    W = calc_MS_width(epsilon_r, Zo, d)\n",
    "    print(f'W = {W}')\n",
    "    cond_loss = Np_to_dB(calc_MS_conductor_loss(Rs, Zo, W))\n",
    "    dialectric_loss = Np_to_dB(calc_MS_dialectric_loss(epsilon_r, freq, tandelta, W, d))\n",
    "    print(f'Conductor Loss = {cond_loss} dB/m')\n",
    "    print(f'Dialectric Loss = {dialectric_loss} dB/m')\n",
    "    return cond_loss + dialectric_loss\n",
    "\n"
   ]
  },
  {
   "cell_type": "markdown",
   "id": "0e3a1568",
   "metadata": {},
   "source": [
    "# Problems"
   ]
  },
  {
   "cell_type": "markdown",
   "id": "4d557627",
   "metadata": {},
   "source": [
    "## Problem 3.19"
   ]
  },
  {
   "cell_type": "code",
   "execution_count": 16,
   "id": "78296d98",
   "metadata": {},
   "outputs": [
    {
     "name": "stdout",
     "output_type": "stream",
     "text": [
      "0.19441840048973097\n",
      "W = 0.0002174100553961108\n",
      "Conductor Loss = 3.376159797161932 dB/m\n",
      "Dialectric Loss = 0.6750255560119459 dB/m\n",
      "Total Loss = 4.051185353173878 dB/m\n"
     ]
    }
   ],
   "source": [
    "#Assume t = 0.01 mm.\n",
    "Zo = 100 #characteristic impedence\n",
    "epsilon_r = 2.2 #relative dialectric permitivvity\n",
    "mu_r = 1 #conductor relative permeability (assumed to be non-magnetic)\n",
    "frequency = (5*10**9) # given\n",
    "b = (1.02*10**-3) #dialectric thickness / separation between ground plates\n",
    "t = (0.01*10**-3) #assuming thickness to be 0.01 mm\n",
    "tandelta = 0.001 #dialectric property, given.\n",
    "conductance = (5.813*10**7) #conductance of copper.\n",
    "\n",
    "print(f'Total Loss = {calc_SL_total_loss(Zo, epsilon_r, mu_r, frequency, b, t, tandelta, conductance)} dB/m')"
   ]
  },
  {
   "cell_type": "markdown",
   "id": "c70a103b",
   "metadata": {},
   "source": [
    "## Problem 3.20"
   ]
  },
  {
   "cell_type": "code",
   "execution_count": 17,
   "id": "0e51c71a",
   "metadata": {},
   "outputs": [
    {
     "name": "stdout",
     "output_type": "stream",
     "text": [
      "W/d <= 2\n",
      "W = 0.0004570868483019499\n",
      "Conductor Loss = 3.5017109194273104 dB/m\n",
      "Dialectric Loss = 0.4770695991861882 dB/m\n"
     ]
    },
    {
     "data": {
      "text/plain": [
       "3.9787805186134984"
      ]
     },
     "execution_count": 17,
     "metadata": {},
     "output_type": "execute_result"
    }
   ],
   "source": [
    "Zo = 100 # given\n",
    "epsilon_r = 2.2 # given\n",
    "d = 0.51*10**-3 # given\n",
    "tandelta = 0.001 # given\n",
    "freq = 5*10**9 # given\n",
    "conductance = 5.813*10**7 # conductance of copper\n",
    "\n",
    "\n",
    "calc_MS_total_loss(Zo, epsilon_r, freq, d, tandelta, conductance)"
   ]
  },
  {
   "cell_type": "markdown",
   "id": "e27a8998",
   "metadata": {},
   "source": [
    "## Problem 3.22"
   ]
  },
  {
   "cell_type": "code",
   "execution_count": 18,
   "id": "a8be1122",
   "metadata": {},
   "outputs": [
    {
     "name": "stdout",
     "output_type": "stream",
     "text": [
      "W = 0.0049298775172545665\n",
      "Conductor Loss = 0.6493410849350731 dB/m\n",
      "Dialectric Loss = 0.5313763817148216 dB/m\n",
      "0.8298368009794619\n",
      "W = 0.0026554777631342783\n",
      "4.73401965078505\n",
      "Conductor Loss = 0.7485205209906759 dB/m\n",
      "Dialectric Loss = 0.6750255560119459 dB/m\n",
      "\n",
      "Microstrip Loss = 0.8280705516203687 dB on 0.701328281328718 meters of line\n",
      "Stripline Loss = 0.920750143627877 dB on 0.6468003800527359 meters of line\n"
     ]
    }
   ],
   "source": [
    "#General Parameters\n",
    "Zo = 50 # Ohms\n",
    "f = 5*10**9 # 5 GHz\n",
    "conductance_copper = 5.813*10**7 \n",
    "\n",
    "#Microstrip Parameters\n",
    "epsilon_r = 2.20\n",
    "d = 0.16*10**-2 # 0.16 cm\n",
    "tandelta = 0.001\n",
    "\n",
    "W_MS = calc_MS_width(epsilon_r, Zo,d) \n",
    "epsilon_effective = calc_MS_epsilon_effective(epsilon_r, W_MS, d)\n",
    "#print(f'eps_eff = {epsilon_effective}')\n",
    "length_MS = 16*c/(np.sqrt(epsilon_effective)*f) #m\n",
    "\n",
    "MS_Loss_per_meter = calc_MS_total_loss(Zo, epsilon_r, f, d, tandelta, conductance_copper) # dB/m\n",
    "\n",
    "#print(f'len = {length_MS}')\n",
    "\n",
    "Microstrip_Loss = MS_Loss_per_meter*length_MS # dB\n",
    "\n",
    "#Stripline Parameters\n",
    "epsilon_r = 2.20\n",
    "b = 0.32*10**-2 #0.32 cm\n",
    "tandelta = 0.001\n",
    "t = 0.01*10**-3 # 0.01 mm\n",
    "mu_r = 1\n",
    "\n",
    "length_LS = 16*c/(np.sqrt(epsilon_r)*f)\n",
    "SL_Loss_per_meter = calc_SL_total_loss(Zo, epsilon_r, mu_r, f, b, t, tandelta, conductance_copper)\n",
    "\n",
    "Stripline_Loss = SL_Loss_per_meter*length_LS # dB\n",
    "\n",
    "print('')\n",
    "print(f'Microstrip Loss = {Microstrip_Loss} dB on {length_MS} meters of line')\n",
    "print(f'Stripline Loss = {Stripline_Loss} dB on {length_LS} meters of line')\n"
   ]
  }
 ],
 "metadata": {
  "kernelspec": {
   "display_name": "Python 3",
   "language": "python",
   "name": "python3"
  },
  "language_info": {
   "codemirror_mode": {
    "name": "ipython",
    "version": 3
   },
   "file_extension": ".py",
   "mimetype": "text/x-python",
   "name": "python",
   "nbconvert_exporter": "python",
   "pygments_lexer": "ipython3",
   "version": "3.11.1"
  }
 },
 "nbformat": 4,
 "nbformat_minor": 5
}

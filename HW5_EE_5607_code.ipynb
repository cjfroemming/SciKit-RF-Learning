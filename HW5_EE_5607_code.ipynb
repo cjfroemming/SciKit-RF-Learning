{
 "cells": [
  {
   "cell_type": "code",
   "execution_count": 1,
   "id": "3d2c9a3d",
   "metadata": {},
   "outputs": [],
   "source": [
    "import numpy as np\n",
    "import math\n",
    "import cmath\n",
    "pi = math.pi\n",
    "\n",
    "#Prints out numbers without \"np.flat64\" displaying\n",
    "np.set_printoptions(legacy='1.25')"
   ]
  },
  {
   "cell_type": "markdown",
   "id": "4713d51a",
   "metadata": {},
   "source": [
    "## Problem 5.1"
   ]
  },
  {
   "cell_type": "code",
   "execution_count": 2,
   "id": "2fe2bf14",
   "metadata": {},
   "outputs": [
    {
     "name": "stdout",
     "output_type": "stream",
     "text": [
      "0.6439209162167847\n"
     ]
    }
   ],
   "source": [
    "Zl = complex(1.5,-2)\n",
    "Zo = complex(1)\n",
    "\n",
    "Ref = (Zl-Zo)/(Zl+Zo)\n",
    "print(abs(Ref))"
   ]
  },
  {
   "cell_type": "code",
   "execution_count": 22,
   "id": "dffdef1f",
   "metadata": {},
   "outputs": [],
   "source": [
    "def L_matching_network(Zo,ZL) :\n",
    "    ZL_norm = ZL/Zo\n",
    "    Zo_norm = 1\n",
    "    ref = (ZL_norm-Zo_norm)/(ZL_norm+Zo_norm)\n",
    "    print(ref)\n",
    "    ref_mag = abs(ref)\n",
    "    RL = ZL.real\n",
    "    XL = ZL.imag\n",
    "    if RL<Zo.real :\n",
    "        print(f'Γ = {round(ref_mag,3)}, Outside 1 + jx circle')\n",
    "        Xp = np.sqrt(RL*(Zo-RL)) - XL\n",
    "        Xm = -np.sqrt(RL*(Zo-RL)) - XL\n",
    "        Bp = np.sqrt((Zo-RL)/RL)/Zo\n",
    "        Bm = -np.sqrt((Zo-RL)/RL)/Zo\n",
    "        return [[Xp,Bp],[Xm,Bm]]\n",
    "    if RL>Zo.real :\n",
    "        print(f'Γ = {round(ref_mag,3)}, Inside 1 + jx circle')\n",
    "        Bp = (XL + np.sqrt(RL/Zo)*np.sqrt(RL**2 + XL**2 - Zo*RL))/(RL**2 + XL**2)\n",
    "        Bm = (XL - np.sqrt(RL/Zo)*np.sqrt(RL**2 + XL**2 - Zo*RL))/(RL**2 + XL**2)\n",
    "        Xp = (1/Bp) + (XL*Zo)/RL - Zo/(Bp*RL)\n",
    "        Xm = (1/Bm) + (XL*Zo)/RL - Zo/(Bm*RL)\n",
    "        return [[Xp,Bp],[Xm,Bm]]\n",
    "    else :\n",
    "        print(f'ERROR: RL = Zo')\n",
    "        return 0"
   ]
  },
  {
   "cell_type": "code",
   "execution_count": 26,
   "id": "2f6a7635",
   "metadata": {},
   "outputs": [
    {
     "name": "stdout",
     "output_type": "stream",
     "text": [
      "(0.5121951219512195-0.39024390243902446j)\n",
      "Γ = 0.644, Inside 1 + jx circle\n"
     ]
    },
    {
     "data": {
      "text/plain": [
       "[[(177.95130420052192+0j), (0.0010708313008125241+0j)],\n",
       " [(-177.95130420052186+0j), (-0.007470831300812524+0j)]]"
      ]
     },
     "execution_count": 26,
     "metadata": {},
     "output_type": "execute_result"
    }
   ],
   "source": [
    "Zl1 = complex(150,-200)\n",
    "Zo1 = complex(100,0)\n",
    "L_matching_network(Zo1,Zl1)"
   ]
  },
  {
   "cell_type": "code",
   "execution_count": 25,
   "id": "5daaf72b",
   "metadata": {},
   "outputs": [
    {
     "name": "stdout",
     "output_type": "stream",
     "text": [
      "(-0.06666666666666667-0.8j)\n",
      "Γ = 0.803, Outside 1 + jx circle\n"
     ]
    },
    {
     "data": {
      "text/plain": [
       "[[(130+0j), (0.02+0j)], [(50-0j), (-0.02+0j)]]"
      ]
     },
     "execution_count": 25,
     "metadata": {},
     "output_type": "execute_result"
    }
   ],
   "source": [
    "Zl2 = complex(20,-90)\n",
    "Zo2 = complex(100,0)\n",
    "L_matching_network(Zo2,Zl2)"
   ]
  },
  {
   "cell_type": "markdown",
   "id": "3bf7b87a",
   "metadata": {},
   "source": [
    "## Problem 5.5"
   ]
  },
  {
   "cell_type": "code",
   "execution_count": 6,
   "id": "846cebbd",
   "metadata": {},
   "outputs": [],
   "source": [
    "def calc_single_stub_series(ZL, Zo, type) :\n",
    "    Yo = 1/Zo\n",
    "    YL = 1/ZL\n",
    "    GL = YL.real\n",
    "    BL = YL.imag\n",
    "\n",
    "    if ((type != 'short') & (type != 'open')) :\n",
    "        type1 = 'short'\n",
    "        type2 = 'open'\n",
    "        print(f'ERROR: incorrect type. Please choose {type1} or {type2}')\n",
    "        return -1\n",
    "\n",
    "    if GL != Yo :\n",
    "        t_pos = (BL + np.sqrt((GL*(((Yo-GL)**2)+ BL**2))/Yo))/(GL-Yo)\n",
    "        t_neg = (BL - np.sqrt((GL*(((Yo-GL)**2)+ BL**2))/Yo))/(GL-Yo)\n",
    "    else :\n",
    "        print('GL = Yo')\n",
    "        t_pos = -BL/(2*Yo)\n",
    "        t_neg = 0\n",
    "    if t_pos >=0 : d_pos = (1/(2*pi))*np.arctan(t_pos)\n",
    "    else : d_pos = (1/(2*pi))*(pi + np.arctan(t_pos))\n",
    "    if t_neg >=0 : d_neg = (1/(2*pi))*np.arctan(t_neg)\n",
    "    else : d_neg = (1/(2*pi))*(pi + np.arctan(t_neg))\n",
    "\n",
    "    X_pos = ((GL**2)*t_pos - ((Yo-t_pos*BL)*(BL+t_pos*Yo))) / (Yo*(GL**2 + (BL + Yo*t_pos)**2))\n",
    "    X_neg = ((GL**2)*t_neg - ((Yo-t_neg*BL)*(BL+t_neg*Yo))) / (Yo*(GL**2 + (BL + Yo*t_neg)**2))\n",
    "\n",
    "    if type == 'short' :\n",
    "        l_pos = (-1/(2*pi))*np.arctan(X_pos/Zo)\n",
    "        l_neg = (-1/(2*pi))*np.arctan(X_neg/Zo)\n",
    "    if type == 'open' :\n",
    "        l_pos = (1/(2*pi))*np.arctan(Zo/X_pos)\n",
    "        l_neg = (1/(2*pi))*np.arctan(Zo/X_neg)\n",
    "\n",
    "    if l_pos < 0 :\n",
    "        l_pos = l_pos + 0.5\n",
    "    if l_neg < 0 :\n",
    "        l_neg = l_neg + 0.5\n",
    "\n",
    "    return [[d_pos,l_pos],[d_neg,l_neg]]\n"
   ]
  },
  {
   "cell_type": "code",
   "execution_count": 7,
   "id": "b5ee19bb",
   "metadata": {},
   "outputs": [
    {
     "data": {
      "text/plain": [
       "[[0.46337321760116423, 0.10236866985856283],\n",
       " [0.11974380977679012, 0.39763133014143714]]"
      ]
     },
     "execution_count": 7,
     "metadata": {},
     "output_type": "execute_result"
    }
   ],
   "source": [
    "#Example 5.3\n",
    "ZL = complex(100,80)\n",
    "Zo = 50\n",
    "calc_single_stub_series(ZL, Zo, 'open')"
   ]
  },
  {
   "cell_type": "code",
   "execution_count": 8,
   "id": "0518769e",
   "metadata": {},
   "outputs": [
    {
     "data": {
      "text/plain": [
       "[[0.4813976406943494, 0.14730157322563034],\n",
       " [0.17410416488946603, 0.3526984267743697]]"
      ]
     },
     "execution_count": 8,
     "metadata": {},
     "output_type": "execute_result"
    }
   ],
   "source": [
    "ZL = complex(90,60)\n",
    "Zo = 75\n",
    "calc_single_stub_series(ZL, Zo, 'open')"
   ]
  },
  {
   "cell_type": "markdown",
   "id": "82d265bb",
   "metadata": {},
   "source": [
    "## Problem 5.12"
   ]
  },
  {
   "cell_type": "code",
   "execution_count": 9,
   "id": "a2bc9c36",
   "metadata": {},
   "outputs": [],
   "source": [
    "def calc_single_stub_shunt(ZL, Zo, type) :\n",
    "    Yo = 1/Zo\n",
    "    RL = ZL.real\n",
    "    XL = ZL.imag\n",
    "\n",
    "    if ((type != 'short') & (type != 'open')) :\n",
    "        type1 = 'short'\n",
    "        type2 = 'open'\n",
    "        print(f'ERROR: incorrect type. Please choose {type1} or {type2}')\n",
    "        return -1\n",
    "\n",
    "    if RL != Zo :\n",
    "        t_pos = (XL + np.sqrt((RL*(((Zo-RL)**2)+ XL**2))/Zo))/(RL-Zo)\n",
    "        t_neg = (XL - np.sqrt((RL*(((Zo-RL)**2)+ XL**2))/Zo))/(RL-Zo)\n",
    "    else :\n",
    "        print('RL = Zo')\n",
    "        t_pos = -XL/(2*Zo)\n",
    "        t_neg = 0\n",
    "    if t_pos >=0 : d_pos = (1/(2*pi))*np.arctan(t_pos)\n",
    "    else : d_pos = (1/(2*pi))*(pi + np.arctan(t_pos))\n",
    "    if t_neg >=0 : d_neg = (1/(2*pi))*np.arctan(t_neg)\n",
    "    else : d_neg = (1/(2*pi))*(pi + np.arctan(t_neg))\n",
    "\n",
    "    B_pos = ((RL**2)*t_pos - ((Zo-XL*t_pos)*(XL+Zo*t_pos))) / (Zo*(RL**2 + (XL + Zo*t_pos)**2))\n",
    "    B_neg = ((RL**2)*t_neg - ((Zo-XL*t_neg)*(XL+Zo*t_neg))) / (Zo*(RL**2 + (XL + Zo*t_neg)**2))\n",
    "\n",
    "    if type == 'open' :\n",
    "        l_pos = (-1/(2*pi))*np.arctan(B_pos/Yo)\n",
    "        l_neg = (-1/(2*pi))*np.arctan(B_neg/Yo)\n",
    "    if type == 'short' :\n",
    "        l_pos = (1/(2*pi))*np.arctan(Yo/B_pos)\n",
    "        l_neg = (1/(2*pi))*np.arctan(Yo/B_neg)\n",
    "\n",
    "    if l_pos < 0 :\n",
    "        l_pos = l_pos + 0.5\n",
    "    if l_neg < 0 :\n",
    "        l_neg = l_neg + 0.5\n",
    "\n",
    "    return [[d_pos,l_pos],[d_neg,l_neg]]\n"
   ]
  },
  {
   "cell_type": "code",
   "execution_count": 10,
   "id": "1f8d3630",
   "metadata": {},
   "outputs": [
    {
     "data": {
      "text/plain": [
       "[[0.11042321863830025, 0.0949746216358915],\n",
       " [0.2594445306228258, 0.4050253783641085]]"
      ]
     },
     "execution_count": 10,
     "metadata": {},
     "output_type": "execute_result"
    }
   ],
   "source": [
    "# Example 5.2\n",
    "ZL = complex(60,-80)\n",
    "Zo = 50\n",
    "calc_single_stub_shunt(ZL, Zo, 'short')"
   ]
  },
  {
   "cell_type": "code",
   "execution_count": 13,
   "id": "5c641ae4",
   "metadata": {},
   "outputs": [
    {
     "name": "stdout",
     "output_type": "stream",
     "text": [
      "[[0.1520433619923482, 0.15204336199234816], [0.3479566380076518, 0.34795663800765186]]\n",
      "[[0.4020433619923482, 0.4020433619923482], [0.09795663800765182, 0.09795663800765182]]\n"
     ]
    }
   ],
   "source": [
    "ZL = complex(200,0)\n",
    "Zo = 100\n",
    "ans_series = calc_single_stub_series(ZL, Zo, 'short')\n",
    "ans_shunt = calc_single_stub_shunt(ZL, Zo, 'short')\n",
    "print(ans_shunt)\n",
    "print(ans_series)"
   ]
  }
 ],
 "metadata": {
  "kernelspec": {
   "display_name": "Python 3",
   "language": "python",
   "name": "python3"
  },
  "language_info": {
   "codemirror_mode": {
    "name": "ipython",
    "version": 3
   },
   "file_extension": ".py",
   "mimetype": "text/x-python",
   "name": "python",
   "nbconvert_exporter": "python",
   "pygments_lexer": "ipython3",
   "version": "3.11.1"
  }
 },
 "nbformat": 4,
 "nbformat_minor": 5
}

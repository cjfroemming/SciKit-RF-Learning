{
 "cells": [
  {
   "cell_type": "code",
   "execution_count": 1,
   "id": "d0f77809-c41e-4c31-b011-105bbe0c4cc7",
   "metadata": {},
   "outputs": [],
   "source": [
    "import numpy as np\n",
    "import math\n",
    "import cmath\n",
    "import matplotlib.pyplot as plt\n",
    "pi = math.pi\n",
    "\n",
    "#Prints out numbers without \"np.flat64\" displaying\n",
    "np.set_printoptions(legacy='1.25')"
   ]
  },
  {
   "cell_type": "code",
   "execution_count": 2,
   "id": "f9578fc6",
   "metadata": {},
   "outputs": [],
   "source": [
    "S11 = complex(1.5*np.cos(np.deg2rad(-10)),1.5*np.sin(np.deg2rad(-10)))\n",
    "S11_conj = complex(1.5*np.cos(np.deg2rad(-10)),-1.5*np.sin(np.deg2rad(-10)))\n",
    "S12_mag = 1.2\n",
    "S12_ang = 30*pi/180\n",
    "S21_mag=3.2\n",
    "S21_ang = np.deg2rad(100)\n",
    "S22_mag = 0.8\n",
    "S22_ang = np.deg2rad(110)\n",
    "S12 = complex(S12_mag*np.cos(S12_ang),S12_mag*np.sin(S12_ang))\n",
    "S21 = complex(S21_mag*np.cos(S21_ang),S21_mag*np.sin(S21_ang))\n",
    "S22 = complex(S22_mag*np.cos(S22_ang),S22_mag*np.sin(S22_ang))"
   ]
  },
  {
   "cell_type": "code",
   "execution_count": 3,
   "id": "fdf11c91",
   "metadata": {},
   "outputs": [
    {
     "name": "stdout",
     "output_type": "stream",
     "text": [
      "CL: magnitude = 0.6503501286833661, angle = 34.1665340862137\n",
      "RL: magnitude = 0.5076471035119019\n",
      "CS: magnitude = 0.5961961121021355, angle = 164.36199768802766\n",
      "RS: magnitude = 0.6449110103795607\n"
     ]
    },
    {
     "data": {
      "text/plain": [
       "[(-0.5741273106891586+0.1607097856589218j), 0.6449110103795607]"
      ]
     },
     "execution_count": 3,
     "metadata": {},
     "output_type": "execute_result"
    }
   ],
   "source": [
    "def calc_CL(S11,S12,S21,S22):\n",
    "\n",
    "    delta = S11*S22 - S12*S21\n",
    "    CL = np.conjugate(S22-delta*np.conjugate(S11))/(abs(S22)**2-abs(delta)**2)\n",
    "    RL = abs(S12*S21/(abs(S22)**2 - abs(delta)**2))\n",
    "    CL_mag = abs(CL)\n",
    "    CL_angle = np.rad2deg(np.angle(CL))\n",
    "    RL_mag = abs(RL)\n",
    "    print(f'CL: magnitude = {CL_mag}, angle = {CL_angle}')\n",
    "    print(f'RL: magnitude = {RL_mag}')\n",
    "    return [CL,RL]\n",
    "\n",
    "def calc_CS(S11,S12,S21,S22):\n",
    "    delta = S11*S22 - S12*S21\n",
    "\n",
    "    CS = np.conjugate((S11-delta*np.conjugate(S22)))/(abs(S11)**2-abs(delta)**2)\n",
    "    RS = abs(S12*S21/(abs(S11)**2 - abs(delta)**2))\n",
    "\n",
    "    CS_mag = abs(CS)\n",
    "    CS_angle = np.rad2deg(np.angle(CS))\n",
    "    RS_mag = abs(RS)\n",
    "    print(f'CS: magnitude = {CS_mag}, angle = {CS_angle}')\n",
    "    print(f'RS: magnitude = {RS_mag}')\n",
    "    return [CS,RS]\n",
    "\n",
    "def calc_gamma_in (S11,S12,S21,S22,gamma_L):\n",
    "    return S11 + (S12*S21*gamma_L)/(1-S22*gamma_L)\n",
    "\n",
    "def calc_gamma_out (S11,S12,S21,S22,gamma_s):\n",
    "    return S22 + (S12*S21*gamma_s)/(1-S11*gamma_s)\n",
    "\n",
    "# mu = (1 - (abs(S11)**2)) / (abs(S22 - delta*S11_conj) + abs(S12*S21))\n",
    "# print(f'Initial S11 = {abs(S12)}, mu = {mu}')\n",
    "\n",
    "calc_CL(S11,S12,S21,S22)\n",
    "calc_CS(S11,S12,S21,S22)"
   ]
  },
  {
   "cell_type": "code",
   "execution_count": 4,
   "id": "8319466a",
   "metadata": {},
   "outputs": [
    {
     "name": "stdout",
     "output_type": "stream",
     "text": [
      "(0.11759602608571437+0.14014548658135662j), 0.18801175017757626, (2.184115331709386+0.38511846195938343j), -1.0551888666260918\n"
     ]
    }
   ],
   "source": [
    "gL = 0.7943282347\n",
    "gs = 0.7943282347\n",
    "S22_conj = complex(0.1285575219,+0.1532088886)\n",
    "\n",
    "CL = gL*S22_conj / (1 - (1-gL)*abs(S22)**2)\n",
    "RL = np.sqrt(1-gL)*(1-abs(S22)**2) / (1 - (1-gL)*abs(S22)**2)\n",
    "\n",
    "Cs = gs*S11_conj / (1 - (1-gs)*abs(S11)**2)\n",
    "Rs = np.sqrt(1-gs)*(1-abs(S11)**2) / (1 - (1-gs)*abs(S11)**2)\n",
    "print (f'{CL}, {RL}, {Cs}, {Rs}')\n"
   ]
  },
  {
   "cell_type": "code",
   "execution_count": 5,
   "id": "dba17646",
   "metadata": {},
   "outputs": [
    {
     "ename": "SyntaxError",
     "evalue": "invalid syntax (1139734705.py, line 1)",
     "output_type": "error",
     "traceback": [
      "\u001b[1;36m  Cell \u001b[1;32mIn[5], line 1\u001b[1;36m\u001b[0m\n\u001b[1;33m    gamma_in = S11 +\u001b[0m\n\u001b[1;37m                    ^\u001b[0m\n\u001b[1;31mSyntaxError\u001b[0m\u001b[1;31m:\u001b[0m invalid syntax\n"
     ]
    }
   ],
   "source": [
    "gamma_in = S11 +"
   ]
  }
 ],
 "metadata": {
  "kernelspec": {
   "display_name": ".venv",
   "language": "python",
   "name": "python3"
  },
  "language_info": {
   "codemirror_mode": {
    "name": "ipython",
    "version": 3
   },
   "file_extension": ".py",
   "mimetype": "text/x-python",
   "name": "python",
   "nbconvert_exporter": "python",
   "pygments_lexer": "ipython3",
   "version": "3.11.9"
  }
 },
 "nbformat": 4,
 "nbformat_minor": 5
}

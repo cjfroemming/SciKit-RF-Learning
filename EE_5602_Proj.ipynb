{
 "cells": [
  {
   "cell_type": "code",
   "execution_count": 1,
   "id": "5e1e567f",
   "metadata": {},
   "outputs": [],
   "source": [
    "import numpy as np\n",
    "import math\n",
    "import cmath\n",
    "import matplotlib.pyplot as plt\n",
    "pi = math.pi\n",
    "\n",
    "#Prints out numbers without \"np.flat64\" displaying\n",
    "np.set_printoptions(legacy='1.25')"
   ]
  },
  {
   "cell_type": "code",
   "execution_count": 11,
   "id": "6655b86d",
   "metadata": {},
   "outputs": [
    {
     "name": "stdout",
     "output_type": "stream",
     "text": [
      "B = 0.0015414210844602407, 0.0003010754832012712\n",
      "X = 1610.9018920147512, -1610.901892014751\n",
      "B: C Shunt = 1.639809664319405e-14 or 3.2029306723539488e-15\n",
      "X: L Series = 1.7137254170369694e-08 or C Series 6.603939026376791e-15\n"
     ]
    }
   ],
   "source": [
    "Z0 = 50\n",
    "RL = 22.671\n",
    "XL = 1085.01\n",
    "omega = 94*10**9\n",
    "\n",
    "#inside of 1 + jX circle, b/c RL > Zo\n",
    "B_pos = (XL + np.sqrt(RL/Z0)*np.sqrt(RL**2 + XL**2 - Z0*RL))/(RL**2 + XL**2)\n",
    "B_neg = (XL - np.sqrt(RL/Z0)*np.sqrt(RL**2 + XL**2 - Z0*RL))/(RL**2 + XL**2)\n",
    "X_pos = (1/B_pos) + ((XL*Z0)/(RL)) - ((Z0)/(B_pos*RL))\n",
    "X_neg = (1/B_neg) + ((XL*Z0)/(RL)) - ((Z0)/(B_neg*RL))\n",
    "\n",
    "print (f'B = {B_pos}, {B_neg}')\n",
    "print (f'X = {X_pos}, {X_neg}')\n",
    "\n",
    "CB_pos = B_pos/omega\n",
    "CB_neg = B_neg/omega\n",
    "LX_pos = X_pos/omega\n",
    "CX_neg = 1/(omega*X_neg)\n",
    "\n",
    "\n",
    "print(f'B: C Shunt = {CB_pos} or {CB_neg}')\n",
    "print(f'X: L Series = {LX_pos} or C Series {-CX_neg}')"
   ]
  }
 ],
 "metadata": {
  "kernelspec": {
   "display_name": "Python 3",
   "language": "python",
   "name": "python3"
  },
  "language_info": {
   "codemirror_mode": {
    "name": "ipython",
    "version": 3
   },
   "file_extension": ".py",
   "mimetype": "text/x-python",
   "name": "python",
   "nbconvert_exporter": "python",
   "pygments_lexer": "ipython3",
   "version": "3.11.9"
  }
 },
 "nbformat": 4,
 "nbformat_minor": 5
}

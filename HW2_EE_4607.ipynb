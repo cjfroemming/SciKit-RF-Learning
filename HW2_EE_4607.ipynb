{
 "cells": [
  {
   "cell_type": "code",
   "execution_count": 1,
   "id": "d0ebc7a4-34f9-432a-b302-552dbb7434a7",
   "metadata": {},
   "outputs": [],
   "source": [
    "import skrf as rf\n",
    "import matplotlib.pyplot as plt\n",
    "import numpy as np\n",
    "import cmath as cm\n",
    "import math\n",
    "import sympy as sp\n",
    "from sympy.solvers import solve\n",
    "pi = math.pi\n",
    "\n",
    "#Prints out numbers without \"np.flat64\" displaying\n",
    "np.set_printoptions(legacy='1.25')"
   ]
  },
  {
   "cell_type": "code",
   "execution_count": 79,
   "id": "5fbd1e5c",
   "metadata": {},
   "outputs": [],
   "source": [
    "K1,K2,f,A = sp.symbols('K1 K2 f A')\n",
    "\n",
    "\n",
    "#K1 = A/sp.sqrt(f) - K2*sp.sqrt(f)\n",
    "\n",
    "f=[30,50,150,220,450,900,1500,1800,2000,2500,5800,8000]\n",
    "A=[2,2.5,4.4,5.4,7.8,11.1,14.5,16.0,16.9,19.0,29.9,35.7]\n",
    "\n",
    "#Based on two matrices of attenuation (db/100 ft) at a frequency (MHz), calculate\n",
    "#the average K1 value, and the average K2 value.\n",
    "def find_k1_k2(frequency, attenuation) :\n",
    "    answers = []\n",
    "    i=0\n",
    "    while i<len(frequency) :\n",
    "        \n",
    "        j=1\n",
    "        while j<len(frequency)-i :\n",
    "            # print(f'eq. 1, f={f[i]} A={A[i]}')\n",
    "            # print(f'eq. 2, f={i+j} A={A[i]}')\n",
    "            fx1 = K1*sp.sqrt(frequency[i]) + K2*frequency[i] - attenuation[i]\n",
    "            fx2 = K1*sp.sqrt(frequency[i+j]) + K2*frequency[i+j] - attenuation[i+j]\n",
    "            func = [fx1, fx2]\n",
    "            ans = sp.nsolve(func, (K1, K2), (0.4,0.0001785))\n",
    "            if (ans[0]>0) & (ans[1]>0) : #ignore negative values because those are non-physical\n",
    "                answers.append(ans)\n",
    "            j+=1\n",
    "        i+=1\n",
    "\n",
    "    k1 = []\n",
    "    for a in answers :\n",
    "        k1.append(a[0])\n",
    "    k2 = []\n",
    "    for a in answers :\n",
    "        k2.append(a[1])\n",
    "\n",
    "    return [sum(k1)/len(k1), sum(k2)/len(k2)]"
   ]
  },
  {
   "cell_type": "code",
   "execution_count": 80,
   "id": "ef85ac94",
   "metadata": {},
   "outputs": [],
   "source": [
    "f=[30,50,150,220,450,900,1500,1800,2000,2500,5800,8000]\n",
    "A=[2,2.5,4.4,5.4,7.8,11.1,14.5,16.0,16.9,19.0,29.9,35.7]"
   ]
  },
  {
   "cell_type": "code",
   "execution_count": 11,
   "id": "46f2ca9b",
   "metadata": {},
   "outputs": [
    {
     "data": {
      "text/plain": [
       "0.7745966692414834"
      ]
     },
     "execution_count": 11,
     "metadata": {},
     "output_type": "execute_result"
    }
   ],
   "source": [
    "np.sqrt(30)*np.sqrt(50)/50"
   ]
  },
  {
   "cell_type": "code",
   "execution_count": 15,
   "id": "3293e5ed",
   "metadata": {},
   "outputs": [
    {
     "data": {
      "text/plain": [
       "0.09128709291752762"
      ]
     },
     "execution_count": 15,
     "metadata": {},
     "output_type": "execute_result"
    }
   ],
   "source": [
    "2/(np.sqrt(30)) - 2.5*np.sqrt(30)/50"
   ]
  },
  {
   "cell_type": "code",
   "execution_count": 16,
   "id": "12ba1658",
   "metadata": {},
   "outputs": [
    {
     "data": {
      "text/plain": [
       "0.4049944275904559"
      ]
     },
     "execution_count": 16,
     "metadata": {},
     "output_type": "execute_result"
    }
   ],
   "source": [
    "0.09128709291752762/(1-0.7745966692414834)"
   ]
  },
  {
   "cell_type": "code",
   "execution_count": null,
   "id": "de25facb",
   "metadata": {},
   "outputs": [],
   "source": [
    "kx1 = 0.4049944275904559\n",
    "\n",
    "k"
   ]
  }
 ],
 "metadata": {
  "kernelspec": {
   "display_name": "Python 3",
   "language": "python",
   "name": "python3"
  },
  "language_info": {
   "codemirror_mode": {
    "name": "ipython",
    "version": 3
   },
   "file_extension": ".py",
   "mimetype": "text/x-python",
   "name": "python",
   "nbconvert_exporter": "python",
   "pygments_lexer": "ipython3",
   "version": "3.11.1"
  }
 },
 "nbformat": 4,
 "nbformat_minor": 5
}

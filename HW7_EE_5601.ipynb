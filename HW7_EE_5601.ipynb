{
 "cells": [
  {
   "cell_type": "code",
   "execution_count": 2,
   "id": "b60341fa-806f-4395-a3f6-1aa07674a133",
   "metadata": {},
   "outputs": [],
   "source": [
    "import numpy as np\n",
    "import math\n",
    "import cmath\n",
    "import matplotlib.pyplot as plt\n",
    "pi = math.pi\n",
    "\n",
    "#Prints out numbers without \"np.flat64\" displaying\n",
    "np.set_printoptions(legacy='1.25')"
   ]
  },
  {
   "cell_type": "markdown",
   "id": "fae6db68",
   "metadata": {},
   "source": [
    "## Problem 8.16"
   ]
  },
  {
   "cell_type": "code",
   "execution_count": 15,
   "id": "36f86a46",
   "metadata": {},
   "outputs": [],
   "source": [
    "# Constants\n",
    "epsilon_0 = 8.854*10**-12 #permitivity of free space\n",
    "mu_0 = 4*pi*10**-7 #permeability of free space\n",
    "c = 2.998*10**8 #speed of light\n",
    "\n",
    "# Generic Equations\n",
    "\n",
    "def freq_to_omega(freq) : #get angular frequency (rad/s)\n",
    "    return 2*pi*freq\n",
    "\n",
    "def Np_to_dB(Np) : # converts Nepers to Decibels.\n",
    "    return Np*20/(np.log(10))\n",
    "\n",
    "#mu_r, epsilon_r = relative properties of medium\n",
    "#freq = frequency of propagation\n",
    "def calc_wavenumber(mu_r, epsilon_r, freq) : # wavenumber, k\n",
    "    return freq_to_omega(freq)*np.sqrt(mu_r*mu_0*epsilon_r*epsilon_0)\n",
    "\n",
    "# k = wavenumber\n",
    "def calc_SL_guide_wavelength(k) : # lambda_g\n",
    "    return 2*pi/k\n",
    "\n",
    "#frequency = frequency of propagation\n",
    "#conductance = property of conductor, sigma\n",
    "def calc_surface_resistance(frequency,conductance) :\n",
    "    return np.sqrt((freq_to_omega(frequency)*mu_0)/(2*conductance))\n",
    "\n",
    "\n",
    "#Microstrip Equations\n",
    "\n",
    "#epsilon_r = relative permitivity of dialectric\n",
    "#Zo = desired characteristic impedence of line\n",
    "#d = substrate thickness\n",
    "def calc_MS_width(epsilon_r, Zo,d) :\n",
    "    A = (Zo/60)*(np.sqrt((epsilon_r+1)/2)) + ((epsilon_r-1)/(epsilon_r+1))*(0.23 + (0.11)/epsilon_r)\n",
    "    B = 377*pi/(2*Zo*np.sqrt(epsilon_r))\n",
    "    # print(f'A = {A}')\n",
    "    # print(f'B = {B}')\n",
    "    W = (8*np.exp(A)/(np.exp(2*A)-2))*d\n",
    "    if ((W/d) <= 2) & (W>0) :\n",
    "        #print(f'W/d <= 2')\n",
    "        return W\n",
    "    else :\n",
    "        W = ((2/pi)*(B - 1 - np.log(2*B-1) + ((epsilon_r-1)/(2*epsilon_r))*(np.log(B-1) + 0.39 - (0.61/epsilon_r)) ))*d\n",
    "        if (W/d >= 2) : return W\n",
    "        else :\n",
    "            print(f'calc_MS_width ERROR: Zo = {Zo} and epsilon_r = {epsilon_r} invalid. W/d = {W/d}')\n",
    "    \n",
    "#epsilon_r = relative permitivity of dialectric\n",
    "#W = width of copper microstrip (not groundplane)\n",
    "#d = substrate thickness\n",
    "def calc_MS_epsilon_effective(epsilon_r, W, d) :\n",
    "    return ((epsilon_r+1)/(2) + ((epsilon_r-1)/(2))*(1/(np.sqrt(1 + 12*(d/W)))))\n",
    "\n",
    "#epsilon_r = relative permitivity of dialectric\n",
    "#tandelta = property of dialectric\n",
    "#W = width of copper microstrip (not groundplane)\n",
    "#d = substrate thickness\n",
    "def calc_MS_dialectric_loss(epsilon_r,freq, tandelta, W, d) :\n",
    "    k0 = (2*pi*freq/c)\n",
    "    epsilon_e = calc_MS_epsilon_effective(epsilon_r, W, d)\n",
    "    return ((k0*epsilon_r*(epsilon_e-1)*tandelta)/(2*np.sqrt(epsilon_e)*(epsilon_r-1)))\n",
    "\n",
    "#Rs = surface resistance of conductor\n",
    "#Zo = characteristic impedence of line.\n",
    "#W = width of copper microstrip (not groundplane)\n",
    "def calc_MS_conductor_loss(Rs, Zo, W) : \n",
    "    return (Rs/(Zo*W))\n",
    "\n",
    "#Zo = characteristic impedence of line.\n",
    "#epsilon_r = relative permitivity of dialectric\n",
    "#freq = frequency of line.\n",
    "#d = substrate thickness\n",
    "#tandelta = property of dialectric\n",
    "#conductance = conductance of conductor.\n",
    "def calc_MS_total_loss(Zo, epsilon_r, freq, d, tandelta, conductance) :\n",
    "    Rs = calc_surface_resistance(freq,conductance)\n",
    "    W = calc_MS_width(epsilon_r, Zo, d)\n",
    "    #print(f'W = {W}')\n",
    "    cond_loss = Np_to_dB(calc_MS_conductor_loss(Rs, Zo, W))\n",
    "    dialectric_loss = Np_to_dB(calc_MS_dialectric_loss(epsilon_r, freq, tandelta, W, d))\n",
    "    #print(f'Conductor Loss = {cond_loss} dB/m')\n",
    "    #print(f'Dialectric Loss = {dialectric_loss} dB/m')\n",
    "    return cond_loss + dialectric_loss"
   ]
  },
  {
   "cell_type": "code",
   "execution_count": 17,
   "id": "5c6e2c1c",
   "metadata": {},
   "outputs": [
    {
     "name": "stdout",
     "output_type": "stream",
     "text": [
      "19.547028138683167\n",
      "29.35453770386918\n",
      "29.115423317367917\n",
      "29.35453770386918\n",
      "19.547028138683167\n"
     ]
    }
   ],
   "source": [
    "Zl = 10\n",
    "Zh = 120\n",
    "freq = 3*10**9\n",
    "\n",
    "eleclength_C1 = 1.7058*Zl/50\n",
    "eleclength_L2 = 1.2296*50/Zh\n",
    "eleclength_C3 = 2.5408*Zl/50\n",
    "eleclength_L4 = eleclength_L2\n",
    "eleclength_C5 = eleclength_C1\n",
    "\n",
    "electrical_lengths = [eleclength_C1,eleclength_L2,eleclength_C3,eleclength_L4,eleclength_C5]\n",
    "\n",
    "for x in electrical_lengths:\n",
    "    print(180*x/pi)"
   ]
  },
  {
   "cell_type": "code",
   "execution_count": 16,
   "id": "a1cc7862",
   "metadata": {},
   "outputs": [
    {
     "name": "stdout",
     "output_type": "stream",
     "text": [
      "[0.01881321015590829, 0.0005023966700655357, 0.01881321015590829, 0.0005023966700655357, 0.01881321015590829]\n",
      "[0.005892813987304051, 0.006417675098070259, 0.00877738408895658, 0.006417675098070259, 0.005892813987304051]\n"
     ]
    }
   ],
   "source": [
    "epsilon_r = 2\n",
    "d = 0.00079\n",
    "tandelta = 0.02\n",
    "freq_o = 3*10**9 #Hz\n",
    "\n",
    "ms_widths = [0] * len(electrical_lengths) #\n",
    "ms_lengths = [0] * len(electrical_lengths) #length of each segment\n",
    "\n",
    "index = 0\n",
    "#stepped impedence width and length calculations\n",
    "for width in range(0,len(ms_widths)) :\n",
    "    if (index % 2) == 0 : Z = 10 #low impedence\n",
    "    else : Z = 120 #high impedence\n",
    "    W = calc_MS_width(epsilon_r, Z,d)\n",
    "    ms_widths[index] = W\n",
    "    epsilon_effective = calc_MS_epsilon_effective(epsilon_r, W, d)\n",
    "    length = (electrical_lengths[index]*c)/(freq_o*2*pi*np.sqrt(epsilon_effective))\n",
    "    ms_lengths[index] = length\n",
    "    index+=1\n",
    "\n",
    "print(ms_widths)\n",
    "print(ms_lengths)"
   ]
  }
 ],
 "metadata": {
  "kernelspec": {
   "display_name": "Python 3",
   "language": "python",
   "name": "python3"
  },
  "language_info": {
   "codemirror_mode": {
    "name": "ipython",
    "version": 3
   },
   "file_extension": ".py",
   "mimetype": "text/x-python",
   "name": "python",
   "nbconvert_exporter": "python",
   "pygments_lexer": "ipython3",
   "version": "3.11.9"
  }
 },
 "nbformat": 4,
 "nbformat_minor": 5
}

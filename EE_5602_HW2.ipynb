{
 "cells": [
  {
   "cell_type": "code",
   "execution_count": 1,
   "id": "d0f77809-c41e-4c31-b011-105bbe0c4cc7",
   "metadata": {},
   "outputs": [],
   "source": [
    "import numpy as np\n",
    "import math\n",
    "import cmath\n",
    "import matplotlib.pyplot as plt\n",
    "pi = math.pi\n",
    "\n",
    "#Prints out numbers without \"np.flat64\" displaying\n",
    "np.set_printoptions(legacy='1.25')"
   ]
  },
  {
   "cell_type": "code",
   "execution_count": 24,
   "id": "f9578fc6",
   "metadata": {},
   "outputs": [],
   "source": [
    "S11 = complex(0.2795964517,0.4145187863)\n",
    "S11_conj = complex(0.2795964517,-0.4145187863)\n",
    "S12_mag = 0.1\n",
    "S12_ang = -43*pi/180\n",
    "S12 = complex(S12_mag*np.cos(S12_ang),S12_mag*np.sin(S12_ang))\n",
    "S21 = complex(0.3660541195,4.184017732)\n",
    "S22 = complex(0.1285575219,-0.1532088886)"
   ]
  },
  {
   "cell_type": "code",
   "execution_count": 23,
   "id": "fdf11c91",
   "metadata": {},
   "outputs": [
    {
     "name": "stdout",
     "output_type": "stream",
     "text": [
      "Initial S11 = 0.09793099999999794, mu = 1.0000063367062597\n",
      "Result S11 = 0.09793099999999794, mu = 1.0000063367062597, delta = 0.3355960254269531\n",
      "(0.07162219935326548-0.06678878139927913j)\n"
     ]
    }
   ],
   "source": [
    "delta = S11*S22 - S12*S21\n",
    "mu = (1 - (abs(S11)**2)) / (abs(S22 - delta*S11_conj) + abs(S12*S21))\n",
    "print(f'Initial S11 = {abs(S12)}, mu = {mu}')\n",
    "\n",
    "dx = 0.000001\n",
    "while mu<=1 :\n",
    "    S12_mag = S12_mag - dx\n",
    "    S12 = complex(S12_mag*np.cos(S12_ang),S12_mag*np.sin(S12_ang))\n",
    "    delta = S11*S22 - S12*S21\n",
    "    mu = (1 - (abs(S11)**2)) / (abs(S22 - delta*S11_conj) + abs(S12*S21))\n",
    "    \n",
    "print(f'Result S11 = {abs(S12)}, mu = {mu}, delta = {abs(delta)}')\n",
    "print(S12)"
   ]
  },
  {
   "cell_type": "code",
   "execution_count": 27,
   "id": "8319466a",
   "metadata": {},
   "outputs": [
    {
     "name": "stdout",
     "output_type": "stream",
     "text": [
      "(0.10296394044360727+0.12270764594787714j), 0.438981515338229, (0.23412982975601687-0.34711174722354216j), 0.3585697884734793\n"
     ]
    }
   ],
   "source": [
    "gL = 0.7943282347\n",
    "gs = 0.7943282347\n",
    "S22_conj = complex(0.1285575219,+0.1532088886)\n",
    "\n",
    "CL = gL*S22_conj / (1 - (1-gL)*abs(S22)**2)\n",
    "RL = np.sqrt(1-gL)*(1-abs(S22)**2) / (1 - (1-gL)*abs(S22)**2)\n",
    "\n",
    "Cs = gs*S11_conj / (1 - (1-gs)*abs(S11)**2)\n",
    "Rs = np.sqrt(1-gs)*(1-abs(S11)**2) / (1 - (1-gs)*abs(S11)**2)\n",
    "print (f'{CL}, {RL}, {Cs}, {Rs}')\n"
   ]
  }
 ],
 "metadata": {
  "kernelspec": {
   "display_name": "Python 3",
   "language": "python",
   "name": "python3"
  },
  "language_info": {
   "codemirror_mode": {
    "name": "ipython",
    "version": 3
   },
   "file_extension": ".py",
   "mimetype": "text/x-python",
   "name": "python",
   "nbconvert_exporter": "python",
   "pygments_lexer": "ipython3",
   "version": "3.11.9"
  }
 },
 "nbformat": 4,
 "nbformat_minor": 5
}
